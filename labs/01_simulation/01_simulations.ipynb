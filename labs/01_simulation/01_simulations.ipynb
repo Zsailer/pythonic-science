{
 "cells": [
  {
   "cell_type": "code",
   "execution_count": 115,
   "metadata": {
    "collapsed": true
   },
   "outputs": [],
   "source": [
    "%matplotlib inline\n",
    "import numpy as np\n",
    "import scipy.stats\n",
    "from matplotlib import pyplot as plt"
   ]
  },
  {
   "cell_type": "markdown",
   "metadata": {},
   "source": [
    "# Practice\n",
    "\n",
    "### Optional exercises to review basic python\n",
    "\n",
    "+ If you want to build a collection of things, keeping track of their order, but do not know how many things you will have, should you use a `dict`, `list`, or `array`?  "
   ]
  },
  {
   "cell_type": "code",
   "execution_count": null,
   "metadata": {
    "collapsed": true
   },
   "outputs": [],
   "source": []
  },
  {
   "cell_type": "markdown",
   "metadata": {},
   "source": [
    "+ If you want do do fast math operations on may numbers at once, should you use a `tuple`, `array` or `list`?"
   ]
  },
  {
   "cell_type": "code",
   "execution_count": null,
   "metadata": {
    "collapsed": true
   },
   "outputs": [],
   "source": []
  },
  {
   "cell_type": "markdown",
   "metadata": {},
   "source": [
    "+ Use an appropriate data type that allows you to look up the common name of an organism give its scientific name. \n",
    "\n",
    "\n",
    "| scientific | common |\n",
    "|------------|--------|\n",
    "| X. laevis  | frog   |\n",
    "| M. musculus| mouse  |\n",
    "| H. sapiens | human  |"
   ]
  },
  {
   "cell_type": "code",
   "execution_count": null,
   "metadata": {
    "collapsed": true
   },
   "outputs": [],
   "source": []
  },
  {
   "cell_type": "markdown",
   "metadata": {},
   "source": [
    "+ Use a `for` loop to print out every 3rd value between -97 and 33."
   ]
  },
  {
   "cell_type": "code",
   "execution_count": null,
   "metadata": {
    "collapsed": true
   },
   "outputs": [],
   "source": []
  },
  {
   "cell_type": "markdown",
   "metadata": {},
   "source": [
    "+ You have an instrument that is going to spit out 1000 decimal numbers.  The following loop simulates this using the `time.time()` function, which spits out the time in seconds since January 1, 1970 at 12:00 GMT.  **Capture the output using a numpy array (no lists allowed) and determine the mean.**"
   ]
  },
  {
   "cell_type": "code",
   "execution_count": 111,
   "metadata": {
    "collapsed": false
   },
   "outputs": [],
   "source": [
    "import time\n",
    "\n",
    "for i in range(1000):\n",
    "    instrument_spew = time.time()\n",
    "\n"
   ]
  },
  {
   "cell_type": "markdown",
   "metadata": {},
   "source": [
    "### Optional exercises to review plotting\n",
    "\n",
    "Reference material is [here](https://aclarke.uoregon.edu:8000/user/[YOUR_USER_NAME_HERE]/notebooks/pythonic-science/chapters/00_inductive-python/plotting_reference.ipynb).\n",
    "\n",
    "+ On the same graph, plot: $y = x$, $y = x^2$, $y = x^{3}$ ... $y = x^{10}$ for $x \\in [-10,10]$.\n"
   ]
  },
  {
   "cell_type": "code",
   "execution_count": null,
   "metadata": {
    "collapsed": true
   },
   "outputs": [],
   "source": []
  },
  {
   "cell_type": "markdown",
   "metadata": {},
   "source": [
    "+ Plot $y = e^{x}$ for $x \\in [-5,5]$.  Make two graphs (in the same cell!), one using a linear $x$ scale, one using a $ln(x)$ x scale.  (Hint: use `plt.show()`). \n"
   ]
  },
  {
   "cell_type": "code",
   "execution_count": null,
   "metadata": {
    "collapsed": true
   },
   "outputs": [],
   "source": []
  },
  {
   "cell_type": "markdown",
   "metadata": {},
   "source": [
    "+ Plot a histogram of 1000 random numbers sampled from a Poisson distribution with $\\lambda = 3$."
   ]
  },
  {
   "cell_type": "code",
   "execution_count": null,
   "metadata": {
    "collapsed": true
   },
   "outputs": [],
   "source": []
  },
  {
   "cell_type": "markdown",
   "metadata": {},
   "source": [
    "# Lab\n",
    "\n",
    "## Coins in a row\n",
    "\n",
    "You place 100 coins heads up in a row and number them by position, with the coin all the way on the left No. 1 and the one on the rightmost edge No. 100. Next, for every number N, from 1 to 100, you flip over every coin whose position is a multiple of N. For example, first you’ll flip over all the coins, because every number is a multiple of 1. Then you’ll flip over all the even-numbered coins, because they’re multiples of 2. Then you’ll flip coins No. 3, 6, 9, 12 … And so on.\n",
    "\n",
    "What do the coins look like when you’re done? Specifically, which coins are heads down?\n",
    "\n",
    "Source: [fivethirtyeight](https://fivethirtyeight.com/features/can-you-survive-this-deadly-board-game/)"
   ]
  },
  {
   "cell_type": "code",
   "execution_count": null,
   "metadata": {
    "collapsed": true
   },
   "outputs": [],
   "source": []
  },
  {
   "cell_type": "markdown",
   "metadata": {},
   "source": [
    "## Dubious Paper\n",
    "\n",
    "You read a paper that makes a big deal out of the following result.  \n",
    "\n",
    "<div style=\"margin:auto\">\n",
    "    <img src=\"paper-result.png\" />\n",
    "</div>\n",
    "\n",
    "The authors claim that the difference between treatment 1 and 2 is significant and important.  You are skeptical and want to test the claim.  Fortunately, these scientists published their response data for each treatment condition in the supplement.  These are copied below. "
   ]
  },
  {
   "cell_type": "code",
   "execution_count": 120,
   "metadata": {
    "collapsed": true
   },
   "outputs": [],
   "source": [
    "treat_1 =   [57.26977195, 46.18382224, 49.53778012, 41.48839620, 60.208242,\n",
    "             50.52545917, 46.35328597, 45.74836944, 48.44702572, 52.524908,\n",
    "             55.10329891, 46.61524479, 52.13253421, 54.72779465, 42.324008,\n",
    "             50.33964928, 52.18085508, 53.24086389, 43.14439906, 45.148827]\n",
    "\n",
    "treat_2 =   [60.41763564, 48.83220035, 51.12384165, 42.96237314, 62.606467,\n",
    "             51.96334172, 50.68015860, 48.75041835, 51.08492900, 55.163020,\n",
    "             58.30618134, 51.06279668, 54.75658646, 57.74810245, 46.318017,\n",
    "             51.32863816, 54.85243237, 55.94919523, 46.42182621, 48.367620]"
   ]
  },
  {
   "cell_type": "markdown",
   "metadata": {},
   "source": [
    "+ What is the difference between the means of these samples?"
   ]
  },
  {
   "cell_type": "code",
   "execution_count": null,
   "metadata": {
    "collapsed": true
   },
   "outputs": [],
   "source": []
  },
  {
   "cell_type": "markdown",
   "metadata": {},
   "source": [
    "+ You then apply a t-test to these samples, assuming each measurement is independent.  What is the p-value?  Do you believe the researchers' conclusions? "
   ]
  },
  {
   "cell_type": "code",
   "execution_count": null,
   "metadata": {
    "collapsed": true
   },
   "outputs": [],
   "source": []
  },
  {
   "cell_type": "markdown",
   "metadata": {},
   "source": [
    "+ Before you write the authors, you decide to carefully reread their methods.  You discover that the values in treat_1 and treat_2 are **paired** rather than independent.  (This means that you can compare the first sample in treat_1 to the first sample in treat_2, the second sample etc.).  What is the p-value for paired t-test?  Does this alter your conclusion above?"
   ]
  },
  {
   "cell_type": "code",
   "execution_count": null,
   "metadata": {
    "collapsed": true
   },
   "outputs": [],
   "source": []
  },
  {
   "cell_type": "markdown",
   "metadata": {
    "collapsed": true
   },
   "source": [
    "## Mutant Screen\n",
    "\n",
    "You are doing a classic blue/white lacZ mutant screen, where bacterial mutants of interest have blue colonies rather than white colonies.  You screen a library containing 10,000 mutants.  You expect that 1/1,000 mutants will be blue.  Assuming no bias in the library, how many colonies do you need to look at to have a < 2% chance of missing a mutant? (You can report your sampling to within a factor of ten.)"
   ]
  },
  {
   "cell_type": "code",
   "execution_count": null,
   "metadata": {
    "collapsed": true
   },
   "outputs": [],
   "source": []
  },
  {
   "cell_type": "markdown",
   "metadata": {},
   "source": [
    "## Growing bacteria \n",
    "\n",
    "You are studying the growth of bacteria from a small inoculum to saturation in a flask.  The following information  will help you answer the questions below.\n",
    "\n",
    "Given your growth conditions, the number of bacteria at time $t$ will grow according to:\n",
    "\n",
    "$$N(t) = \\frac{N_{c}}{1 + exp(\\lambda - kt)}$$\n",
    "\n",
    "where $N_{c}$, $\\lambda$, and $k$ are constants. $N_{c}$ is the maximum number of bacteria that can be supported  by the environment, $\\lambda$ captures how long it takes for the bacteria to start dividing post inoculation, and $k$ is the instantaneous growth rate. (We're ignoring the fact that bacteria eventually start to die after they run out of food).  For your wildtype bacteria, these constants are: $N_{c} = 1 \\times 10^{10}\\ cells \\cdot mL^{-1}$, $\\lambda = 12$ and $k = 0.05\\  min^{-1}$.\n",
    "\n",
    "  \n",
    "\n",
    "You can measure bacterial growth by following the turbidity of your cultures using a spectrophotometer.  By careful calibration, you know that the observed $OD_{600}$ is related to the number of cells by:\n",
    "$$OD_{600} = \\frac{gN}{N + K}$$\n",
    "\n",
    "where $g = 3.5$ and $K = 2 \\times 10^{9}\\ cells \\cdot mL^{-1}$.\n",
    "\n",
    "\n",
    "### Questions\n",
    "\n",
    "+ Write two functions, one describing bacterial growth, the other describing the spectrophotometer.  (Hint: use numpy arrays, not lists!).  "
   ]
  },
  {
   "cell_type": "code",
   "execution_count": null,
   "metadata": {
    "collapsed": true
   },
   "outputs": [],
   "source": []
  },
  {
   "cell_type": "markdown",
   "metadata": {},
   "source": [
    "+ Create three separate graphs: \n",
    "  + $N(t)$ vs. $t$.\n",
    "  + $OD_{600}$ vs. $N$\n",
    "  + $OD_{600}$ vs. $t$"
   ]
  },
  {
   "cell_type": "code",
   "execution_count": null,
   "metadata": {
    "collapsed": true
   },
   "outputs": [],
   "source": []
  },
  {
   "cell_type": "markdown",
   "metadata": {},
   "source": [
    "+ You introduce a mutation that you expect may increase the carrying capacity by a factor of 50. Would you rather measure this effect at 150 or 500 minutes?"
   ]
  },
  {
   "cell_type": "code",
   "execution_count": null,
   "metadata": {
    "collapsed": true
   },
   "outputs": [],
   "source": []
  },
  {
   "cell_type": "markdown",
   "metadata": {},
   "source": [
    "+ You send your research assistant out to measure five biological replicates of the wildtype and mutant.  Unfortunately, they record the exact starting time of each biological replicate.  For each replicate, they guess the start time is 0 +/- 10 min. (Normal distribution with a standard deviation of 10).  Can you still measure a difference between the wildtype and mutant at 150 minutes?  What about 500 minutes?"
   ]
  },
  {
   "cell_type": "code",
   "execution_count": null,
   "metadata": {
    "collapsed": true
   },
   "outputs": [],
   "source": []
  },
  {
   "cell_type": "markdown",
   "metadata": {},
   "source": [
    "## PCR\n",
    "\n",
    "You have a tube containing 10 molecules of DNA drawn from a population containing four different species $A$, $B$, $C$, and $D$.  You want to want to estimate the frequencies of $A$, $B$, $C$, and $D$ in the original popuation.  If you were omniscient, you would know that $A$, $B$, $C$, and $D$ have the following actual frequencies:\n",
    "\n",
    "| species | frequency |\n",
    "|:-------:|:---------:|\n",
    "| A       |  0.5      |\n",
    "| B       |  0.2      |\n",
    "| C       |  0.2      |\n",
    "| D       |  0.1      |\n",
    "\n",
    "Since you aren't omniscient, you make a measurement. You use a Polymerase Chain Reaction (PCR) to amplify those 10 molecules, then use high-throughput sequencing to measure the relative frequencies of A-D in the final pool.  \n",
    "\n",
    "**What are your estimates and 95% confidence intervals for each frequency ($\\hat{f}_{A}$, $\\hat{f}_{D}$, $\\hat{f}_{C}$, $\\hat{f}_{D}$)?**\n",
    "\n",
    "Some information about the PCR:\n",
    "\n",
    "+ The PCR reaction takes every sequence present in the solution and doubles it. \n",
    "+ Your reaction is 90% effecient.  This means that a random fraction of 90% of the population is doubled each round.\n",
    "+ You run the reaction for 15 rounds. \n",
    "+ Your high-throughput sequencing reaction is perfect and does not introduce any error.\n"
   ]
  },
  {
   "cell_type": "code",
   "execution_count": 156,
   "metadata": {
    "collapsed": false
   },
   "outputs": [
    {
     "name": "stdout",
     "output_type": "stream",
     "text": [
      "[ 6.  1.  1.  2.]\n"
     ]
    }
   ],
   "source": [
    "def PCR():\n",
    "\n",
    "    pop = np.random.choice([0,1,2,3],size=10,p=[0.5,0.2,0.2,0.1])\n",
    "    \n",
    "    counts = np.zeros(4)\n",
    "    for i in range(4):\n",
    "        counts[i] = np.sum(pop == i)\n",
    "        \n",
    "    np.random.choice([0])\n",
    "    \n",
    "    \n",
    "    \n",
    "PCR()"
   ]
  },
  {
   "cell_type": "code",
   "execution_count": null,
   "metadata": {
    "collapsed": false
   },
   "outputs": [],
   "source": [
    "import numpy as np \n",
    "dna_frequencies = np.random.binomial(20,0.1,20)"
   ]
  },
  {
   "cell_type": "markdown",
   "metadata": {},
   "source": [
    "2. Working with an undergraduate who ... knows within \n",
    "\n",
    "\n",
    "#### Exp\n",
    "\n",
    "You add a compound to the environment that competes with the bacteria for an essential nutrient.  "
   ]
  },
  {
   "cell_type": "code",
   "execution_count": 157,
   "metadata": {
    "collapsed": false
   },
   "outputs": [
    {
     "data": {
      "text/plain": [
       "[<matplotlib.lines.Line2D at 0x7f7a535dd3c8>]"
      ]
     },
     "execution_count": 157,
     "metadata": {},
     "output_type": "execute_result"
    },
    {
     "data": {
      "image/png": "[encoded data removed]",
      "text/plain": [
       "<matplotlib.figure.Figure at 0x7f7a536686a0>"
      ]
     },
     "metadata": {},
     "output_type": "display_data"
    }
   ],
   "source": [
    "def growth(t,a=1e10,b=12,c=0.05):\n",
    "    \n",
    "    return a/(1 + np.exp(b - c*t))\n",
    "\n",
    "def OD600(c,g=3.5,K=2e9):\n",
    "    \n",
    "    return g*c/(K + c)\n",
    "\n",
    "t = np.linspace(0,500,500)\n",
    "\n",
    "plt.plot(t,OD600(growth(t,a=1e10)))\n",
    "plt.plot(t,OD600(growth(t,a=2e10)))\n",
    "plt.plot(t,OD600(growth(t,a=5e10)))\n",
    "plt.plot(t,OD600(growth(t,a=10e10)))\n",
    "plt.plot(t,OD600(growth(t,c=0.03,a=100e10)))"
   ]
  },
  {
   "cell_type": "code",
   "execution_count": 106,
   "metadata": {
    "collapsed": false
   },
   "outputs": [
    {
     "data": {
      "image/png": "[encoded data removed]",
      "text/plain": [
       "<matplotlib.figure.Figure at 0x7f7a61d4b358>"
      ]
     },
     "metadata": {},
     "output_type": "display_data"
    },
    {
     "data": {
      "image/png": "[encoded data removed]",
      "text/plain": [
       "<matplotlib.figure.Figure at 0x7f7a63bccdd8>"
      ]
     },
     "metadata": {},
     "output_type": "display_data"
    }
   ],
   "source": [
    "for i in range(10):\n",
    "    t = np.linspace(0,500,500)\n",
    "    t_actual = np.linspace(0,500,500) + np.random.normal(0,10,1)\n",
    "    \n",
    "    c = growth(t_actual)\n",
    "    \n",
    "    #c = np.linspace(0,1e10)\n",
    "    plt.plot(t,OD600(c))\n",
    "    #plt.show()\n",
    "    \n",
    "    \n",
    "    #plt.plot(t,growth(t_actual))\n",
    "\n",
    "plt.show()\n",
    "\n",
    "c = np.linspace(0,1e10)\n",
    "plt.plot(c,OD600(c))\n",
    "plt.show()\n",
    "\n",
    "\n",
    "\n",
    "#plt.plot(t,OD600(3.5,2e9,growth(a,b,c,t)))\n",
    "#plt.plot((180,180),(0,3),\"--\")\n",
    "\n",
    "#plt.plot(t,growth(a,b,c,t))"
   ]
  },
  {
   "cell_type": "code",
   "execution_count": 82,
   "metadata": {
    "collapsed": false
   },
   "outputs": [
    {
     "data": {
      "text/plain": [
       "480"
      ]
     },
     "execution_count": 82,
     "metadata": {},
     "output_type": "execute_result"
    }
   ],
   "source": [
    "8*60"
   ]
  },
  {
   "cell_type": "code",
   "execution_count": 47,
   "metadata": {
    "collapsed": true
   },
   "outputs": [],
   "source": []
  },
  {
   "cell_type": "code",
   "execution_count": 105,
   "metadata": {
    "collapsed": false
   },
   "outputs": [
    {
     "data": {
      "text/plain": [
       "[<matplotlib.lines.Line2D at 0x7f7a63dc3748>]"
      ]
     },
     "execution_count": 105,
     "metadata": {},
     "output_type": "execute_result"
    },
    {
     "data": {
      "image/png": "[encoded data removed]",
      "text/plain": [
       "<matplotlib.figure.Figure at 0x7f7a63c64978>"
      ]
     },
     "metadata": {},
     "output_type": "display_data"
    }
   ],
   "source": [
    "\n",
    "\n",
    "def OD600(c,g=3.5,K=2e9):\n",
    "    \n",
    "    return g*c**1/(K**1 + c**1)\n",
    "\n",
    "bac = np.linspace(0,1e10,1000)\n",
    "\n",
    "plt.plot(bac,OD600(bac,3.5,2e9))\n",
    "plt.plot((0,max(bac)),(1,1),'--')\n",
    "plt.plot((8e8,8e8),(0,3),'--')\n",
    "#plt.xscale(\"log\")\n",
    "#plt.yscale(\"log\")\n"
   ]
  },
  {
   "cell_type": "code",
   "execution_count": null,
   "metadata": {
    "collapsed": true
   },
   "outputs": [],
   "source": []
  },
  {
   "cell_type": "code",
   "execution_count": null,
   "metadata": {
    "collapsed": true
   },
   "outputs": [],
   "source": []
  },
  {
   "cell_type": "code",
   "execution_count": null,
   "metadata": {
    "collapsed": true
   },
   "outputs": [],
   "source": []
  },
  {
   "cell_type": "code",
   "execution_count": 3,
   "metadata": {
    "collapsed": false
   },
   "outputs": [
    {
     "data": {
      "text/plain": [
       "1080"
      ]
     },
     "execution_count": 3,
     "metadata": {},
     "output_type": "execute_result"
    }
   ],
   "source": [
    "60*18"
   ]
  },
  {
   "cell_type": "code",
   "execution_count": null,
   "metadata": {
    "collapsed": true
   },
   "outputs": [],
   "source": []
  },
  {
   "cell_type": "code",
   "execution_count": null,
   "metadata": {
    "collapsed": false,
    "scrolled": true
   },
   "outputs": [],
   "source": [
    "import random\n",
    "import numpy as np\n",
    "\n",
    "\n",
    "\n",
    "def sample_it(N,lib_size=10000,mut_freq=0.001):\n",
    "\n",
    "    max_value = int(round(mut_freq*lib_size,0))\n",
    "    \n",
    "    out = np.zeros(max_value,dtype=int)\n",
    "    for i in range(N):\n",
    "        s = int(round(random.random()*lib_size,0))\n",
    "        if s < max_value:\n",
    "            out[s] += 1\n",
    "        \n",
    "    num_missing = np.sum(out == 0)\n",
    "    \n",
    "    return num_missing\n",
    "\n",
    "\n",
    "\n",
    "out = []\n",
    "for i in range(1000):\n",
    "    print(i)\n",
    "    for j in range(6):\n",
    "    \n",
    "        y = sample_it(10**j)\n",
    "        if y == 0:\n",
    "            out.append(10**j)\n",
    "            break\n",
    "\n",
    "    \n"
   ]
  },
  {
   "cell_type": "code",
   "execution_count": null,
   "metadata": {
    "collapsed": false
   },
   "outputs": [],
   "source": [
    "plt.hist(out)"
   ]
  },
  {
   "cell_type": "code",
   "execution_count": null,
   "metadata": {
    "collapsed": false
   },
   "outputs": [],
   "source": [
    "1-984/1000."
   ]
  },
  {
   "cell_type": "code",
   "execution_count": null,
   "metadata": {
    "collapsed": true
   },
   "outputs": [],
   "source": [
    "\n",
    "import numpy as np\n",
    "import matplotlib.pyplot as plt\n",
    "from scipy.stats import kde\n",
    "\n",
    "np.random.seed(1977)\n",
    "\n",
    "# Generate 200 correlated x,y points\n",
    "data = np.random.multivariate_normal([0, 0],[[1,0.5],[0.5,3]],200) # [[1, 0.5], [0.5, 3]], 200)\n",
    "x, y = data.T\n",
    "\n",
    "nbins = 20\n",
    "\n",
    "\n",
    "# http://stackoverflow.com/questions/19390320/scatterplot-contours-in-matplotlib\n",
    "\n",
    "# Evaluate a gaussian kde on a regular grid of nbins x nbins over data extents\n",
    "k = kde.gaussian_kde(data.T)\n",
    "xi, yi = np.mgrid[x.min():x.max():nbins*1j, y.min():y.max():nbins*1j]\n",
    "zi = k.pdf(np.vstack([xi.flatten(), yi.flatten()])) # PDF\n",
    "\n",
    "plt.pcolormesh(xi, yi, zi.reshape(xi.shape))\n",
    "\n",
    "levels = [0.9]\n",
    "\n",
    "\n",
    "\n",
    "plt.contour(xi,yi,zi.reshape(xi.shape),levels=levels)\n",
    "\n",
    "plt.show()"
   ]
  },
  {
   "cell_type": "code",
   "execution_count": 118,
   "metadata": {
    "collapsed": false,
    "scrolled": true
   },
   "outputs": [
    {
     "data": {
      "text/plain": [
       "0.09061170718896884"
      ]
     },
     "execution_count": 118,
     "metadata": {},
     "output_type": "execute_result"
    },
    {
     "data": {
      "image/png": "[encoded data removed]",
      "text/plain": [
       "<matplotlib.figure.Figure at 0x7f7a601015c0>"
      ]
     },
     "metadata": {},
     "output_type": "display_data"
    }
   ],
   "source": [
    "x = [1 for i in range(20)]\n",
    "x.extend([2 for i in range(20)])\n",
    "x = np.array(x) + 0.1*(np.random.random(len(x))-0.5)\n",
    "\n",
    "y = control[:]\n",
    "y.extend(treatment)\n",
    "y = np.array(y)\n",
    "\n",
    "control_mean = np.mean(control)\n",
    "treatment_mean = np.mean(treatment)\n",
    "\n",
    "fig, ax = plt.subplots(1,figsize=(5,5))\n",
    "\n",
    "ax.plot(x,y,\"o\")\n",
    "ax.plot((0.75,1.25),(control_mean,control_mean),\"k-\")\n",
    "ax.plot((1.75,2.25),(treatment_mean,treatment_mean),\"k-\")\n",
    "\n",
    "ax.set_ylim(0,70)\n",
    "ax.set_xlim(0.5,2.5)\n",
    "ax.set_xticks((1,2))\n",
    "ax.set_ylabel(\"response\")\n",
    "\n",
    "\n",
    "#plt.savefig(\"paper-result.png\")\n",
    "\n",
    "\n",
    "t = scipy.stats.ttest_ind(control,treatment)\n",
    "t.pvalue"
   ]
  },
  {
   "cell_type": "markdown",
   "metadata": {},
   "source": [
    "You are studying a protein that causes cells to orient themselves perpendicular to a growth substrate.  You can measure the relative orientation of cells to within $5 ^{\\circ}$. You make 10 measurements of a wildtype protein and 10 with a mutant.  You make the following observations.  "
   ]
  },
  {
   "cell_type": "markdown",
   "metadata": {
    "collapsed": true
   },
   "source": [
    "You do a `bind-n-seq` experiment in which you take a pool of 100 DNA sequences with an even frequency of 1% each.  You then throw a DNA binding protein into the mix which binds to 1/2 of the sequences with high affinity, but does not bind to the other sequences at all (so the pool is now 2% A, 0% B).  Unfortunately, you can only do the binding reaction at small volumes, so you end up with only 20 DNA sequences of each type. \n",
    "\n",
    "1. \n",
    "\n"
   ]
  },
  {
   "cell_type": "code",
   "execution_count": null,
   "metadata": {
    "collapsed": false
   },
   "outputs": [],
   "source": []
  }
 ],
 "metadata": {
  "kernelspec": {
   "display_name": "Python 3",
   "language": "python",
   "name": "python3"
  },
  "language_info": {
   "codemirror_mode": {
    "name": "ipython",
    "version": 3
   },
   "file_extension": ".py",
   "mimetype": "text/x-python",
   "name": "python",
   "nbconvert_exporter": "python",
   "pygments_lexer": "ipython3",
   "version": "3.5.2"
  }
 },
 "nbformat": 4,
 "nbformat_minor": 1
}
