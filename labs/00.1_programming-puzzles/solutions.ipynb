{
 "cells": [
  {
   "cell_type": "code",
   "execution_count": 4,
   "metadata": {
    "collapsed": false,
    "scrolled": false
   },
   "outputs": [
    {
     "name": "stderr",
     "output_type": "stream",
     "text": [
      "/usr/local/lib/python3.5/dist-packages/ipykernel/__main__.py:66: FutureWarning: comparison to `None` will result in an elementwise object comparison in the future.\n"
     ]
    },
    {
     "name": "stdout",
     "output_type": "stream",
     "text": [
      "0.000426 (0, 0, 0, 0, 1, 2, 5, 11, 25, 56)\n",
      "0.000427 (1, 1, 2, 3, 5, 7, 10, 15, 23, 33)\n",
      "0.000428 (1, 1, 2, 2, 4, 6, 9, 15, 23, 37)\n",
      "0.000437 (10, 5, 1, 0, 3, 8, 14, 19, 21, 19)\n",
      "0.000456 (9, 11, 6, 15, 3, 17, 1, 19, 0, 19)\n",
      "0.000456 (12, 6, 2, 0, 1, 5, 11, 17, 22, 24)\n",
      "0.000473 (0, 1, 1, 2, 3, 5, 9, 14, 24, 41)\n",
      "0.000497 (0, 0, 0, 1, 1, 3, 6, 12, 25, 52)\n",
      "0.000514 (7, 7, 8, 9, 9, 10, 11, 12, 13, 14)\n",
      "0.000541 (6, 7, 7, 8, 9, 10, 11, 12, 14, 16)\n",
      "0.000546 (0, 0, 1, 1, 2, 4, 8, 14, 25, 45)\n",
      "0.000592 (10, 4, 1, 0, 3, 9, 15, 19, 20, 19)\n",
      "0.000638 (0, 0, 1, 1, 2, 4, 7, 13, 25, 47)\n",
      "0.000657 (0, 1, 1, 2, 3, 5, 8, 14, 24, 42)\n",
      "0.000676 (0, 1, 1, 2, 3, 5, 9, 15, 24, 40)\n",
      "0.000676 (6, 6, 7, 8, 9, 10, 11, 13, 14, 16)\n",
      "0.000684 (8, 8, 9, 9, 10, 10, 11, 11, 12, 12)\n",
      "0.000718 (9, 11, 6, 14, 3, 17, 1, 18, 0, 21)\n",
      "0.000733 (3, 4, 4, 6, 7, 9, 11, 14, 18, 24)\n",
      "0.000808 (4, 4, 5, 7, 8, 10, 12, 14, 17, 19)\n",
      "0.000881 (3, 4, 5, 6, 8, 9, 11, 14, 17, 23)\n",
      "0.000897 (4, 5, 5, 7, 8, 10, 12, 14, 17, 18)\n",
      "0.0009 (11, 5, 1, 0, 2, 7, 13, 18, 21, 22)\n",
      "0.000957 (4, 5, 6, 7, 8, 10, 11, 13, 16, 20)\n",
      "0.001007 (2, 2, 3, 5, 6, 8, 11, 15, 20, 28)\n",
      "0.001021 (5, 6, 7, 8, 9, 10, 11, 13, 15, 16)\n",
      "0.001088 (3, 4, 5, 6, 8, 9, 11, 14, 18, 22)\n",
      "0.001107 (1, 1, 1, 2, 4, 6, 9, 15, 24, 37)\n",
      "0.001124 (4, 5, 6, 7, 8, 10, 12, 14, 17, 17)\n",
      "0.001253 (3, 3, 4, 6, 7, 9, 11, 15, 19, 23)\n",
      "0.001344 (1, 1, 2, 3, 4, 7, 10, 15, 23, 34)\n",
      "0.001345 (1, 2, 2, 4, 5, 7, 11, 15, 22, 31)\n",
      "0.001403 (1, 1, 2, 3, 5, 7, 10, 15, 22, 34)\n",
      "0.001619 (4, 4, 5, 6, 8, 9, 12, 14, 17, 21)\n",
      "0.001736 (3, 3, 4, 6, 7, 9, 11, 15, 18, 24)\n",
      "0.00202 (1, 2, 2, 3, 5, 7, 10, 15, 22, 33)\n",
      "0.002171 (1, 2, 3, 4, 5, 7, 11, 15, 22, 30)\n",
      "0.002252 (1, 2, 3, 4, 6, 8, 11, 15, 21, 29)\n",
      "0.002315 (4, 5, 6, 7, 8, 10, 11, 14, 16, 19)\n",
      "0.002512 (1, 1, 2, 3, 4, 6, 10, 15, 23, 35)\n",
      "0.002535 (3, 4, 5, 6, 8, 9, 12, 14, 17, 22)\n",
      "0.002995 (2, 3, 4, 5, 6, 9, 11, 15, 20, 25)\n",
      "0.003139 (2, 2, 3, 4, 6, 8, 11, 15, 20, 29)\n",
      "0.00365 (2, 3, 3, 5, 6, 8, 11, 15, 20, 27)\n",
      "0.004084 (1, 2, 3, 4, 5, 8, 11, 15, 21, 30)\n",
      "0.005181 (3, 4, 5, 6, 7, 9, 11, 14, 18, 23)\n",
      "0.005368 (3, 3, 4, 5, 7, 9, 11, 15, 19, 24)\n",
      "0.005874 (2, 3, 4, 5, 6, 8, 11, 15, 20, 26)\n",
      "0.007232 (2, 2, 3, 4, 6, 8, 11, 15, 21, 28)\n",
      "0.013255 (2, 3, 4, 5, 7, 9, 11, 15, 19, 25)\n"
     ]
    }
   ],
   "source": [
    "import numpy as np\n",
    "import sys\n",
    "\n",
    "\n",
    "def head_to_head(a_soldiers,b_soldiers):\n",
    "    \n",
    "    points = np.arange(1,11)\n",
    "    \n",
    "    a = np.array(a_soldiers)\n",
    "    b = np.array(b_soldiers)\n",
    "    \n",
    "    a_points = np.sum(points[np.array(a > b)])\n",
    "    b_points = np.sum(points[np.array(a < b)])\n",
    "    \n",
    "    if a_points > b_points:\n",
    "        return a_soldiers\n",
    "    elif a_points < b_points:\n",
    "        return b_soldiers\n",
    "    else:\n",
    "        return None\n",
    "\n",
    "    \n",
    "def gen_armies(army_type=None):\n",
    "    \n",
    "    if army_type == \"exp\":\n",
    "        armies = np.exp(np.random.random()*np.arange(10))\n",
    "    elif army_type == \"flat\":\n",
    "        armies = np.random.rand(10)\n",
    "    elif army_type == \"flat_sorted\":\n",
    "        armies = np.random.rand(10)\n",
    "        armies.sort()\n",
    "    elif army_type == \"comb\":\n",
    "        armies = np.sin(np.arange(10)/np.random.random()) + 1        \n",
    "    else:\n",
    "        armies = np.ones(10)\n",
    "        \n",
    "    armies = armies/np.sum(armies)        \n",
    "    armies = np.round(armies*100,0)\n",
    "    \n",
    "    if np.sum(armies) > 100:\n",
    "        armies[9] = armies[9] - (np.sum(armies) - 100)\n",
    "        \n",
    "    if np.sum(armies) < 100:\n",
    "        armies[9] = armies[9] + (100 - np.sum(armies))\n",
    "        \n",
    "    return np.array(armies,dtype=np.int)\n",
    "\n",
    "strategies = [\"exp\",\"flat\",\"flat_sorted\",\"comb\"]\n",
    "\n",
    "# Create initial winner\n",
    "winner_strategy = np.random.choice(strategies)\n",
    "winner = gen_armies(winner_strategy)\n",
    "\n",
    "# Run 1,000,000 times \n",
    "out = {}\n",
    "for i in range(1000000):\n",
    "    \n",
    "    # Create a challenger\n",
    "    challenger_strategy = np.random.choice(strategies)\n",
    "    challenger = gen_armies(challenger_strategy)\n",
    "\n",
    "    # Do battle\n",
    "    result = head_to_head(winner,challenger)\n",
    "    \n",
    "    # Replace winner if there is a new winner\n",
    "    if result != None:\n",
    "        if not np.array_equal(winner,result):\n",
    "            winner = np.copy(result)\n",
    "            winner_strategy = challenger_strategy\n",
    "    \n",
    "    # Count the winners\n",
    "    try:\n",
    "        out[tuple(winner)] += 1\n",
    "    except KeyError:\n",
    "        out[tuple(winner)] = 1\n",
    "\n",
    "\n",
    "# Sort output and print out top 50 most common solutions\n",
    "sorted_out = [(out[k],k) for k in out.keys()]\n",
    "sorted_out.sort()\n",
    "for i in range(-50,0,1):\n",
    "    print(sorted_out[i][0]/1000000,sorted_out[i][1])"
   ]
  },
  {
   "cell_type": "code",
   "execution_count": null,
   "metadata": {
    "collapsed": true
   },
   "outputs": [],
   "source": [
    "(2, 3, 4, 5, 7, 9, 11, 15, 19, 25)"
   ]
  },
  {
   "cell_type": "code",
   "execution_count": 1,
   "metadata": {
    "collapsed": false
   },
   "outputs": [
    {
     "name": "stdout",
     "output_type": "stream",
     "text": [
      "[(79459, (4, 5, 6)), (76040, (5, 6, 7)), (75700, (3, 5, 6)), (72328, (2, 5, 6)), (72085, (3, 4, 6)), (71675, (4, 6, 7)), (69621, (1, 5, 6)), (68431, (2, 4, 6)), (68084, (3, 4, 5)), (67929, (3, 6, 7))]\n"
     ]
    }
   ],
   "source": [
    "spaces = list(range(50))\n",
    "\n",
    "import random\n",
    "import itertools\n",
    "\n",
    "def simulate(coin_positions):\n",
    "    \n",
    "    current = 0\n",
    "\n",
    "    while current < coin_positions[-1]:\n",
    "        current = current + random.choice([1,2,3,4,5,6])\n",
    "        if current in coin_positions:\n",
    "            return 1\n",
    "        \n",
    "    return 0\n",
    "            \n",
    "\n",
    "possibilities = []\n",
    "for c in itertools.combinations(list(range(8)),3):\n",
    "    \n",
    "    score = 0\n",
    "    for i in range(100000):\n",
    "        score = score + simulate(c)\n",
    "        \n",
    "    possibilities.append((score,c))\n",
    "    \n",
    "possibilities.sort(reverse=True)\n",
    "        \n",
    "print(possibilities[:10])\n",
    "\n",
    "\n",
    "coin_placement = [4,5,6]"
   ]
  },
  {
   "cell_type": "code",
   "execution_count": null,
   "metadata": {
    "collapsed": true
   },
   "outputs": [],
   "source": []
  }
 ],
 "metadata": {
  "kernelspec": {
   "display_name": "Python 3",
   "language": "python",
   "name": "python3"
  },
  "language_info": {
   "codemirror_mode": {
    "name": "ipython",
    "version": 3
   },
   "file_extension": ".py",
   "mimetype": "text/x-python",
   "name": "python",
   "nbconvert_exporter": "python",
   "pygments_lexer": "ipython3",
   "version": "3.5.2"
  }
 },
 "nbformat": 4,
 "nbformat_minor": 1
}
