{
 "cells": [
  {
   "cell_type": "markdown",
   "metadata": {},
   "source": [
    "# Conditional Execution\n",
    "Conditional execution allows a program to only exceute code if some condition is met.  We'll explore this inductively."
   ]
  },
  {
   "cell_type": "markdown",
   "metadata": {},
   "source": [
    "### What do you think the following code will print out?\n",
    "\n",
    "Run it and test your prediction."
   ]
  },
  {
   "cell_type": "code",
   "execution_count": 2,
   "metadata": {
    "collapsed": false,
    "scrolled": true
   },
   "outputs": [
    {
     "name": "stdout",
     "output_type": "stream",
     "text": [
      "True\n"
     ]
    }
   ],
   "source": [
    "x = 5\n",
    "print(x > 2)\n"
   ]
  },
  {
   "cell_type": "markdown",
   "metadata": {},
   "source": [
    "### What about the following?\n",
    "\n",
    "Run it and test your prediction."
   ]
  },
  {
   "cell_type": "code",
   "execution_count": 3,
   "metadata": {
    "collapsed": false,
    "scrolled": false
   },
   "outputs": [
    {
     "name": "stdout",
     "output_type": "stream",
     "text": [
      "False\n"
     ]
    }
   ],
   "source": [
    "x = 5\n",
    "print(x < 2)\n"
   ]
  },
  {
   "cell_type": "markdown",
   "metadata": {},
   "source": [
    "### What does the `x < y` do?  What does it spit out?"
   ]
  },
  {
   "cell_type": "markdown",
   "metadata": {},
   "source": [
    " "
   ]
  },
  {
   "cell_type": "markdown",
   "metadata": {},
   "source": [
    "### What do you think the following code will do?\n",
    "\n",
    "Run it and test your prediction."
   ]
  },
  {
   "cell_type": "code",
   "execution_count": null,
   "metadata": {
    "collapsed": true
   },
   "outputs": [],
   "source": [
    "x = 5\n",
    "if x > 2:\n",
    "    print(x)\n",
    "    "
   ]
  },
  {
   "cell_type": "markdown",
   "metadata": {},
   "source": [
    "### Did it behave like you expected?"
   ]
  },
  {
   "cell_type": "markdown",
   "metadata": {},
   "source": [
    " "
   ]
  },
  {
   "cell_type": "markdown",
   "metadata": {},
   "source": [
    "### What about the following code cell?\n",
    "\n",
    "Run it and test your prediction."
   ]
  },
  {
   "cell_type": "code",
   "execution_count": null,
   "metadata": {
    "collapsed": true
   },
   "outputs": [],
   "source": [
    "x = 0\n",
    "if x > 2:\n",
    "    print(x)\n",
    "    "
   ]
  },
  {
   "cell_type": "markdown",
   "metadata": {},
   "source": [
    "### Did it behave like you expected?"
   ]
  },
  {
   "cell_type": "markdown",
   "metadata": {},
   "source": [
    " "
   ]
  },
  {
   "cell_type": "markdown",
   "metadata": {},
   "source": [
    "## <font color=\"blue\">Explanation</font>\n",
    "\n",
    "In python the:\n",
    "\n",
    "```python\n",
    "\n",
    "if CONDITION:\n",
    "    DO_SOMETHING\n",
    "```\n",
    "\n",
    "construct will only `DO_SOMETHING` if `CONDITION` is `True`.  The following code will all print \"HERE\"  because the `CONDITION` bit of the `if` statement is `True` in all three cases."
   ]
  },
  {
   "cell_type": "code",
   "execution_count": 6,
   "metadata": {
    "collapsed": false
   },
   "outputs": [
    {
     "name": "stdout",
     "output_type": "stream",
     "text": [
      "HERE\n",
      "HERE\n",
      "HERE\n"
     ]
    }
   ],
   "source": [
    "if 5 > 2:\n",
    "    print(\"HERE\")\n",
    "    \n",
    "if 5 != 2:\n",
    "    print(\"HERE\")\n",
    "    \n",
    "if True:\n",
    "    print(\"HERE\")"
   ]
  },
  {
   "cell_type": "markdown",
   "metadata": {},
   "source": [
    "### Your simple comparison operators are:\n",
    "\n",
    " + `x < y` (less than)\n",
    " + `x <= y` (less than or equal to)\n",
    " + `x > y` (greater than)\n",
    " + `x >= y` (greater than or equal to)\n",
    " + `x == y` (is equal to)\n",
    " + `x != y` (is not equal to)\n",
    " \n",
    "There are more, depending on the sorts of comparisons being made.  We'll get to them later.\n",
    " \n",
    "### Predict what the following program will print."
   ]
  },
  {
   "cell_type": "markdown",
   "metadata": {},
   "source": [
    " "
   ]
  },
  {
   "cell_type": "code",
   "execution_count": 8,
   "metadata": {
    "collapsed": false,
    "scrolled": true
   },
   "outputs": [
    {
     "name": "stdout",
     "output_type": "stream",
     "text": [
      "Conditional 2\n",
      "Conditional 2\n"
     ]
    }
   ],
   "source": [
    "x = 5*5\n",
    "\n",
    "if x == 5:\n",
    "    print(\"Conditional 1\")\n",
    "    \n",
    "if x > 5:\n",
    "    print(\"Conditional 2\")\n",
    "\n",
    "if x != 5:\n",
    "    print(\"Conditional 3\")\n",
    "    "
   ]
  },
  {
   "cell_type": "markdown",
   "metadata": {},
   "source": [
    "### Were you right?  If not, where did you go wrong?\n"
   ]
  },
  {
   "cell_type": "markdown",
   "metadata": {},
   "source": [
    " "
   ]
  },
  {
   "cell_type": "markdown",
   "metadata": {},
   "source": [
    "Python decides what is inside the `if` condition using indentation.  \n",
    "\n"
   ]
  },
  {
   "cell_type": "code",
   "execution_count": 12,
   "metadata": {
    "collapsed": false
   },
   "outputs": [
    {
     "name": "stdout",
     "output_type": "stream",
     "text": [
      "inside conditional\n",
      "also inside conditional\n",
      "not inside conditional\n",
      "3\n"
     ]
    }
   ],
   "source": [
    "x = 5\n",
    "\n",
    "if x > 2:\n",
    "    print(\"inside conditional\")\n",
    "    print(\"also inside conditional\")\n",
    "    \n",
    "    x = x + 5\n",
    "    \n",
    "print(\"not inside conditional\")\n",
    "x = x - 7\n",
    "\n",
    "print(x)"
   ]
  },
  {
   "cell_type": "markdown",
   "metadata": {},
   "source": [
    "### Now, modify the code so the conditional is `False`.  What will the code spit out now?"
   ]
  },
  {
   "cell_type": "code",
   "execution_count": null,
   "metadata": {
    "collapsed": true
   },
   "outputs": [],
   "source": [
    "\n",
    "\n",
    "if x > 10:\n",
    "    print(\"condition 1\")\n",
    "elif x < 0:\n",
    "    print(\"condition 2\")\n",
    "elif x \n",
    "else:\n",
    "    print(\"\")"
   ]
  }
 ],
 "metadata": {
  "kernelspec": {
   "display_name": "Python 3",
   "language": "python",
   "name": "python3"
  },
  "language_info": {
   "codemirror_mode": {
    "name": "ipython",
    "version": 3
   },
   "file_extension": ".py",
   "mimetype": "text/x-python",
   "name": "python",
   "nbconvert_exporter": "python",
   "pygments_lexer": "ipython3",
   "version": "3.5.2"
  }
 },
 "nbformat": 4,
 "nbformat_minor": 1
}
