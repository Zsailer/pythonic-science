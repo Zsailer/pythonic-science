{
 "cells": [
  {
   "cell_type": "markdown",
   "metadata": {},
   "source": [
    "# Conditional Execution\n",
    "Conditional execution allows a program to only execute code if some condition is met. "
   ]
  },
  {
   "cell_type": "markdown",
   "metadata": {},
   "source": [
    "#### Predict\n",
    "What will this code do?"
   ]
  },
  {
   "cell_type": "code",
   "execution_count": 2,
   "metadata": {
    "collapsed": false,
    "scrolled": true
   },
   "outputs": [
    {
     "name": "stdout",
     "output_type": "stream",
     "text": [
      "True\n"
     ]
    }
   ],
   "source": [
    "x = 5\n",
    "print(x > 2)\n"
   ]
  },
  {
   "cell_type": "markdown",
   "metadata": {},
   "source": [
    "#### Predict\n",
    "What will this code do?"
   ]
  },
  {
   "cell_type": "code",
   "execution_count": 3,
   "metadata": {
    "collapsed": false,
    "scrolled": true
   },
   "outputs": [
    {
     "name": "stdout",
     "output_type": "stream",
     "text": [
      "False\n"
     ]
    }
   ],
   "source": [
    "x = 5\n",
    "print(x < 2)\n"
   ]
  },
  {
   "cell_type": "markdown",
   "metadata": {},
   "source": [
    "#### Summarize\n",
    "What does `x < y` do?  What does it spit out?"
   ]
  },
  {
   "cell_type": "markdown",
   "metadata": {},
   "source": [
    "#### Modify\n",
    "Change the following cell so it prints `False`"
   ]
  },
  {
   "cell_type": "code",
   "execution_count": null,
   "metadata": {
    "collapsed": true
   },
   "outputs": [],
   "source": [
    "x = 20\n",
    "print (x > 2)"
   ]
  },
  {
   "cell_type": "markdown",
   "metadata": {},
   "source": [
    "-----------------------------------------------------------------\n",
    "\n",
    "#### Predict\n",
    "What will this code do?"
   ]
  },
  {
   "cell_type": "code",
   "execution_count": null,
   "metadata": {
    "collapsed": true
   },
   "outputs": [],
   "source": [
    "x = 5\n",
    "if x > 2:\n",
    "    print(x)\n",
    "    "
   ]
  },
  {
   "cell_type": "markdown",
   "metadata": {},
   "source": [
    "#### Predict\n",
    "What will this code do?"
   ]
  },
  {
   "cell_type": "code",
   "execution_count": null,
   "metadata": {
    "collapsed": true
   },
   "outputs": [],
   "source": [
    "x = 0\n",
    "if x > 2:\n",
    "    print(x)\n",
    "    "
   ]
  },
  {
   "cell_type": "markdown",
   "metadata": {},
   "source": [
    "#### Predict\n",
    "What will this code do?"
   ]
  },
  {
   "cell_type": "code",
   "execution_count": 5,
   "metadata": {
    "collapsed": false
   },
   "outputs": [
    {
     "name": "stdout",
     "output_type": "stream",
     "text": [
      "hello\n"
     ]
    }
   ],
   "source": [
    "x = 0\n",
    "if x > 2:\n",
    "    print(x)\n",
    "print(\"hello\")\n",
    "    "
   ]
  },
  {
   "cell_type": "markdown",
   "metadata": {},
   "source": [
    "#### Summarize\n",
    "How does the `if` statement work?"
   ]
  },
  {
   "cell_type": "markdown",
   "metadata": {},
   "source": [
    "#### Modify\n",
    "Change the code above so it prints out `x`."
   ]
  },
  {
   "cell_type": "code",
   "execution_count": 4,
   "metadata": {
    "collapsed": true
   },
   "outputs": [],
   "source": [
    "x = 20\n",
    "if x < 5:\n",
    "    print(x)"
   ]
  },
  {
   "cell_type": "markdown",
   "metadata": {},
   "source": [
    "#### Implement\n",
    "Write code that will only print `x` if x is more than 100."
   ]
  },
  {
   "cell_type": "markdown",
   "metadata": {},
   "source": [
    "### More complicated conditionals"
   ]
  },
  {
   "cell_type": "markdown",
   "metadata": {},
   "source": [
    "#### Predict\n",
    "What will this code do?"
   ]
  },
  {
   "cell_type": "markdown",
   "metadata": {},
   "source": [
    "#### Predict\n",
    "What will this code do?"
   ]
  },
  {
   "cell_type": "code",
   "execution_count": null,
   "metadata": {
    "collapsed": true
   },
   "outputs": [],
   "source": [
    "x = 2\n",
    "if x < 5 and x > 10:\n",
    "    print(\"condition 1\")\n",
    "    \n",
    "x = 7\n",
    "if x < 5 and x > 10:\n",
    "    print(\"condition 2\")"
   ]
  },
  {
   "cell_type": "markdown",
   "metadata": {},
   "source": [
    "#### Predict\n",
    "What will this code do?"
   ]
  },
  {
   "cell_type": "code",
   "execution_count": null,
   "metadata": {
    "collapsed": true
   },
   "outputs": [],
   "source": [
    "x = 2\n",
    "if x < 5 or x > 10:\n",
    "    print(\"condition 1\")\n",
    "    \n",
    "x = 7\n",
    "if x < 5 or x > 10:\n",
    "    print(\"condition 2\")"
   ]
  },
  {
   "cell_type": "markdown",
   "metadata": {},
   "source": [
    "#### Summarize\n",
    "How do `and` and `or` work?"
   ]
  },
  {
   "cell_type": "markdown",
   "metadata": {},
   "source": [
    "#### Modify\n",
    "Change the following code so it will print \"HERE\" if x is between 17 and 22."
   ]
  },
  {
   "cell_type": "code",
   "execution_count": null,
   "metadata": {
    "collapsed": true
   },
   "outputs": [],
   "source": [
    "x = 20\n",
    "if x < 5 or x > 10:\n",
    "    print(\"HERE\")"
   ]
  },
  {
   "cell_type": "markdown",
   "metadata": {},
   "source": [
    "#### Implement\n",
    "Write a conditional statement that prints x if it is negative or positive and greater than 10."
   ]
  },
  {
   "cell_type": "code",
   "execution_count": null,
   "metadata": {
    "collapsed": true
   },
   "outputs": [],
   "source": []
  },
  {
   "cell_type": "markdown",
   "metadata": {},
   "source": [
    "### Multiple conditions\n",
    "\n",
    "#### Predict\n",
    "What will this code do?"
   ]
  },
  {
   "cell_type": "code",
   "execution_count": 3,
   "metadata": {
    "collapsed": false,
    "scrolled": true
   },
   "outputs": [
    {
     "name": "stdout",
     "output_type": "stream",
     "text": [
      "inside conditional\n",
      "also inside conditional\n",
      "not inside conditional\n"
     ]
    }
   ],
   "source": [
    "x = 5\n",
    "\n",
    "if x > 2:\n",
    "    print(\"inside conditional\")\n",
    "    print(\"also inside conditional\")\n",
    "\n",
    "if x < 2:\n",
    "    print(\"inside a different conditional\")\n",
    "    \n",
    "print(\"not inside conditional\")\n"
   ]
  },
  {
   "cell_type": "markdown",
   "metadata": {},
   "source": [
    "Python decides what is inside the conditional `if` using indentation.  "
   ]
  },
  {
   "cell_type": "markdown",
   "metadata": {},
   "source": [
    "#### Predict what will happen."
   ]
  },
  {
   "cell_type": "code",
   "execution_count": 2,
   "metadata": {
    "collapsed": false,
    "scrolled": true
   },
   "outputs": [
    {
     "name": "stdout",
     "output_type": "stream",
     "text": [
      "inside conditional\n",
      "also inside conditional\n",
      "not inside conditional\n",
      "3\n"
     ]
    }
   ],
   "source": [
    "x = 5\n",
    "if x < 10:\n",
    "    x = x + 10\n",
    "    \n",
    "print(x)"
   ]
  },
  {
   "cell_type": "markdown",
   "metadata": {},
   "source": [
    "#### Did it behave as expected?"
   ]
  },
  {
   "cell_type": "markdown",
   "metadata": {},
   "source": [
    "### Now, modify the code so the conditional is `False`.  What will the code spit out now?"
   ]
  },
  {
   "cell_type": "code",
   "execution_count": null,
   "metadata": {
    "collapsed": true
   },
   "outputs": [],
   "source": [
    "if x > 10:\n",
    "    print(\"condition 1\")\n",
    "elif x < 0:\n",
    "    print(\"condition 2\")\n",
    "else:\n",
    "    print(\"condition 3\")"
   ]
  },
  {
   "cell_type": "markdown",
   "metadata": {},
   "source": [
    "# Explanation\n",
    "\n",
    "In python the:\n",
    "\n",
    "```python\n",
    "\n",
    "if CONDITION:\n",
    "    DO_SOMETHING\n",
    "```\n",
    "\n",
    "construct will only `DO_SOMETHING` if `CONDITION` is `True`.  The following code will all print \"HERE\"  because the `CONDITION` bit of the `if` statement is `True` in all three cases."
   ]
  },
  {
   "cell_type": "code",
   "execution_count": 6,
   "metadata": {
    "collapsed": false,
    "scrolled": true
   },
   "outputs": [
    {
     "name": "stdout",
     "output_type": "stream",
     "text": [
      "HERE\n",
      "HERE\n",
      "HERE\n"
     ]
    }
   ],
   "source": [
    "if 5 > 2:\n",
    "    print(\"HERE\")\n",
    "    \n",
    "if 5 != 2:\n",
    "    print(\"HERE\")\n",
    "    \n",
    "if True:\n",
    "    print(\"HERE\")"
   ]
  },
  {
   "cell_type": "markdown",
   "metadata": {},
   "source": [
    "### Your simple comparison operators are:\n",
    "\n",
    " + `x < y` (less than)\n",
    " + `x <= y` (less than or equal to)\n",
    " + `x > y` (greater than)\n",
    " + `x >= y` (greater than or equal to)\n",
    " + `x == y` (is equal to)\n",
    " + `x != y` (is not equal to)\n",
    " \n",
    "There are more, depending on the sorts of comparisons being made.  We'll get to them later."
   ]
  },
  {
   "cell_type": "markdown",
   "metadata": {},
   "source": [
    "# Explanation\n",
    "\n",
    "In python the:\n",
    "\n",
    "```python\n",
    "\n",
    "if CONDITION:\n",
    "    DO_SOMETHING\n",
    "elif SOME_OTHER_CONDITION:\n",
    "    DO_SOMETHING_ELSE\n",
    "elif YET_ANOTHER_CONDITION:\n",
    "    DO_YET_ANOTHER_THING\n",
    "else:\n",
    "    DO_WHATEVER_WE_WANT \n",
    "```\n",
    "\n",
    "construct will only `DO_SOMETHING` if `CONDITION` is `True`.  The following code will all print \"HERE\"  because the `CONDITION` bit of the `if` statement is `True` in all three cases."
   ]
  },
  {
   "cell_type": "markdown",
   "metadata": {},
   "source": [
    "#### Predict\n",
    "What will this code do?"
   ]
  },
  {
   "cell_type": "code",
   "execution_count": 1,
   "metadata": {
    "collapsed": false,
    "scrolled": false
   },
   "outputs": [
    {
     "name": "stdout",
     "output_type": "stream",
     "text": [
      "Conditional 2\n",
      "Conditional 3\n"
     ]
    }
   ],
   "source": [
    "x = 5*5\n",
    "\n",
    "if x == 5:\n",
    "    print(\"Conditional 1\")\n",
    "    \n",
    "if x > 5:\n",
    "    print(\"Conditional 2\")\n",
    "\n",
    "if x != 5:\n",
    "    print(\"Conditional 3\")\n",
    "    "
   ]
  }
 ],
 "metadata": {
  "kernelspec": {
   "display_name": "Python 3",
   "language": "python",
   "name": "python3"
  },
  "language_info": {
   "codemirror_mode": {
    "name": "ipython",
    "version": 3
   },
   "file_extension": ".py",
   "mimetype": "text/x-python",
   "name": "python",
   "nbconvert_exporter": "python",
   "pygments_lexer": "ipython3",
   "version": "3.5.2"
  }
 },
 "nbformat": 4,
 "nbformat_minor": 1
}
