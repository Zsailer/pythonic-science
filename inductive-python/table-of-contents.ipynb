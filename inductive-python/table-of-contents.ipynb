{
 "cells": [
  {
   "cell_type": "markdown",
   "metadata": {
    "slideshow": {
     "slide_type": "slide"
    }
   },
   "source": [
    "# Inductive Python\n",
    "\n",
    "Scientists are really good at starting from specific observations and going\n",
    "to general rules (inductive reasoning).  That's how we're going to teach python.  \n",
    "\n",
    "+ This interactive approach should cement how python works in your mind.  \n",
    "+ This will help you learn to read existing code -- a super-important skill assuming\n",
    "  you don't want to write everything from scratch."
   ]
  },
  {
   "cell_type": "markdown",
   "metadata": {
    "slideshow": {
     "slide_type": "slide"
    }
   },
   "source": [
    "### Approach:\n",
    "\n",
    "For each new idea, these exercises (mostly) follow a defined approach:\n",
    "\n",
    "+ **Predict** (look at code, predict what it does, test the prediction)\n",
    "+ **Summarize** (summarize what the code does)\n",
    "+ **Modify** (take a bit of code and modify it in a defined way)\n",
    "+ **Implement** (write code from scratch using the new concept)"
   ]
  },
  {
   "cell_type": "markdown",
   "metadata": {
    "slideshow": {
     "slide_type": "slide"
    }
   },
   "source": [
    "### Material\n",
    "\n",
    "+ [Intro to Jupyter](00_jupyter-intro.ipynb)\n",
    "+ [Python as a calculator](01_python-as-a-calculator.ipynb)\n",
    "+ [Decision-making in python (conditionals)](02_conditionals.ipynb)\n",
    "+ [Loops](03_loops.ipynb)\n",
    "+ [Lists](04_lists.ipynb)\n",
    "+ [Tuples and dicts and strings](05_tuples-and-dicts-and-strings.ipynb)\n",
    "+ [numpy arrays](06_numpy_arrays.ipynb)\n",
    "+ [Functions](07_functions.ipynb)\n",
    "+ [Namespace](08_namespace.ipynb)\n",
    "+ [Plotting with matplotlib](09_plotting.ipynb)"
   ]
  },
  {
   "cell_type": "markdown",
   "metadata": {
    "slideshow": {
     "slide_type": "slide"
    }
   },
   "source": [
    "### References\n",
    "+ [Jupyter reference](jupyter_reference.ipynb)\n",
    "+ [Graphing reference](09_plotting.ipynb)\n",
    "+ [Python cheatsheet](../docs/build/cheat-sheet.html)"
   ]
  },
  {
   "cell_type": "code",
   "execution_count": null,
   "metadata": {
    "collapsed": true
   },
   "outputs": [],
   "source": []
  }
 ],
 "metadata": {
  "celltoolbar": "Slideshow",
  "kernelspec": {
   "display_name": "Python 3",
   "language": "python",
   "name": "python3"
  },
  "language_info": {
   "codemirror_mode": {
    "name": "ipython",
    "version": 3
   },
   "file_extension": ".py",
   "mimetype": "text/x-python",
   "name": "python",
   "nbconvert_exporter": "python",
   "pygments_lexer": "ipython3",
   "version": "3.5.2"
  }
 },
 "nbformat": 4,
 "nbformat_minor": 1
}
