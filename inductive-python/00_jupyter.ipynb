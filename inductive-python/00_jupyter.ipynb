{
 "cells": [
  {
   "cell_type": "markdown",
   "metadata": {},
   "source": [
    "# Jupyter Notebooks\n",
    "\n",
    "Jupyter notebooks are a way to program interactively, incorporating text, links, math, and graphics straight into the notebook.  The gold standard for a notebook is that anyone could download your notebook off the internet and run it to reproduce an analysis you report in a publication.  \n",
    "\n",
    "Jupyter notebooks are built from \"cells.\"  There are two basic types of cells in jupyter.  **Markdown** cells (like this one) that can hold text and **code** cells (like the next one) that hold code.  "
   ]
  },
  {
   "cell_type": "code",
   "execution_count": null,
   "metadata": {
    "collapsed": false,
    "scrolled": true
   },
   "outputs": [],
   "source": [
    "print(\"This is a code cell\")\n",
    "print(5*5)"
   ]
  },
  {
   "cell_type": "markdown",
   "metadata": {},
   "source": [
    "## Interacting with Cells\n",
    " * To edit a **code** cell, just click on it. \n",
    " * To run a **code** cell, click on it and type `Shift+Enter`\n",
    " * To edit a **markdown** cell, double click on the cell.  \n",
    " * To make the **markdown** cell look pretty, click on it and type `Shift+Enter`.\n",
    " * You can change the cell type with the dropdown menu above that selects `Code` or `Markdown.`\n",
    " * You can create a new cell by clicking `Insert->Cell` on the menu. \n",
    "\n",
    "\n",
    " "
   ]
  },
  {
   "cell_type": "markdown",
   "metadata": {},
   "source": [
    "#  Code cells\n",
    "Each code cell contains python code.  It can be run indepedently of others.  To run it, click on the cell and hit `Shift+Enter`.  To run all of the cells in order, go to the menu and select `Cell->Run All`.  \n",
    "\n",
    "When you run a cell, all other cells \"know\" you ran the code.  Try running the three code cells that follow this one.\n",
    "\n",
    "+ run the `x = 5` cell.\n",
    "+ run the `print(x)` cell (it should spit out `5`).\n",
    "+ run the `x = 7` cell.\n",
    "+ re-run the `print(x)` cell (it should now spit out `7`).  \n",
    "\n",
    "What matters is what cell ran **last**, not where the cell is up and down on the page.  Because `x = 7` was the last code ran, `print(x)` will now return `7` wherever that command is in the notebook."
   ]
  },
  {
   "cell_type": "code",
   "execution_count": null,
   "metadata": {
    "collapsed": true
   },
   "outputs": [],
   "source": [
    "x = 5"
   ]
  },
  {
   "cell_type": "code",
   "execution_count": null,
   "metadata": {
    "collapsed": true
   },
   "outputs": [],
   "source": [
    "print(x)"
   ]
  },
  {
   "cell_type": "code",
   "execution_count": null,
   "metadata": {
    "collapsed": true
   },
   "outputs": [],
   "source": [
    "x = 7"
   ]
  },
  {
   "cell_type": "markdown",
   "metadata": {},
   "source": [
    "### Sometimes bad things happen\n",
    "+ If your code is frozen, you can go to `Kernel->Interrupt`.  \n",
    "+ To restart the whole session (clearing all previous runs) go to the menu and select `Kernel->Restart`.  You'll have to rerun all cells at this point.\n",
    "\n",
    "### Graphics\n",
    "\n",
    "Lots of code needs to dump out a graph.  This can be achieved by putting the \"magic\" directive `%matplotlib inline` in a code cell (this usually goes at the very top of the notebook).  After that is called, all graphs will be captured by the notebook.  Run the following to cells to see how it works."
   ]
  },
  {
   "cell_type": "code",
   "execution_count": 2,
   "metadata": {
    "collapsed": false
   },
   "outputs": [],
   "source": [
    "%matplotlib inline"
   ]
  },
  {
   "cell_type": "code",
   "execution_count": 3,
   "metadata": {
    "collapsed": false
   },
   "outputs": [
    {
     "data": {
      "text/plain": [
       "[<matplotlib.lines.Line2D at 0x7f0dbc665b70>]"
      ]
     },
     "execution_count": 3,
     "metadata": {},
     "output_type": "execute_result"
    },
    {
     "data": {
      "image/png": "[encoded data removed]",
      "text/plain": [
       "<matplotlib.figure.Figure at 0x7f0dbc694b38>"
      ]
     },
     "metadata": {},
     "output_type": "display_data"
    }
   ],
   "source": [
    "from matplotlib import pyplot as plt\n",
    "plt.plot([1,2,3],[4,5,6])"
   ]
  },
  {
   "cell_type": "markdown",
   "metadata": {},
   "source": [
    "# Markdown cells\n",
    "\n",
    "## <font color=\"red\">MARKDOWN CELLS ARE YOUR LAB NOTEBOOK</font>\n",
    "\n",
    "This is the place you should take notes describing what you're doing and why.  Markdown let you annotate your science with pretty formatting.  You write text normally, but then add a few simple [markdown](https://github.com/adam-p/markdown-here/wiki/Markdown-Cheatsheet) flags to make the cell pretty.\n",
    "\n",
    "### Formatting is not hard\n",
    " + **This is bold text.** \n",
    " + *This is italic text.*\n",
    " + This is math $x = 2$ using LaTeX.  \n",
    " + This is code: `x = 2`.\n",
    " + [This is a link](https://google.com). \n",
    " \n",
    "### Lists aren't hard:\n",
    " + this\n",
    " + is\n",
    " + a\n",
    " + list\n",
    " \n",
    "### Neither are numbered lists:\n",
    " 1. this\n",
    " 2. is \n",
    " 3. a \n",
    " 4. numbered\n",
    " 5. list\n",
    " \n",
    "### You can put in a **big** equation:\n",
    "\n",
    "$$x = \\frac{sin(y)}{\\sqrt{e^{-z}}}$$\n",
    "\n",
    "### Or multiple lines of code:\n",
    "\n",
    "```python\n",
    "# This is a multi-line code block. It won't run, but it will look nice\n",
    "\n",
    "x = 2\n",
    "print(x*x)\n",
    "\n",
    "# See?\n",
    "```\n",
    "\n",
    "### You can make tables\n",
    "\n",
    "| Tables        | Are           | Cool  |\n",
    "| ------------- | ------------- | ----- |\n",
    "| *a*           | $x=7$         |  1600 |\n",
    "| **b**         | `print(x)`    |    12 |\n",
    "\n",
    "### There are several levels of headers\n",
    "\n",
    "# Biggest\n",
    "## Big\n",
    "### Still big\n",
    "#### Bold, not big\n",
    "##### Italic, not big\n",
    "\n",
    "\n",
    "###  You can even use html to make things really interesting.  \n",
    "\n",
    "Like <font color=\"purple\">adding color</font>.\n",
    "\n",
    "\n",
    "\n",
    " \n"
   ]
  }
 ],
 "metadata": {
  "kernelspec": {
   "display_name": "Python 3",
   "language": "python",
   "name": "python3"
  },
  "language_info": {
   "codemirror_mode": {
    "name": "ipython",
    "version": 3
   },
   "file_extension": ".py",
   "mimetype": "text/x-python",
   "name": "python",
   "nbconvert_exporter": "python",
   "pygments_lexer": "ipython3",
   "version": "3.5.2"
  }
 },
 "nbformat": 4,
 "nbformat_minor": 1
}
