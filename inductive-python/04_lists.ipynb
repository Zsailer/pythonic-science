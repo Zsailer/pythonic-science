{
 "cells": [
  {
   "cell_type": "markdown",
   "metadata": {},
   "source": [
    "# Lists\n",
    "Lists are objects that let you hold on to multiple values at once in a sane and organized fashion."
   ]
  },
  {
   "cell_type": "code",
   "execution_count": null,
   "metadata": {
    "collapsed": true
   },
   "outputs": [],
   "source": [
    "some_list = [10,20,30]\n",
    "print(some_list[1])"
   ]
  },
  {
   "cell_type": "code",
   "execution_count": null,
   "metadata": {
    "collapsed": true
   },
   "outputs": [],
   "source": [
    "some_list = [10,20,30]\n",
    "print(some_list[0])"
   ]
  },
  {
   "cell_type": "code",
   "execution_count": null,
   "metadata": {
    "collapsed": true
   },
   "outputs": [],
   "source": [
    "some_list = [10,20,30]\n",
    "print(len(some_list))"
   ]
  },
  {
   "cell_type": "code",
   "execution_count": null,
   "metadata": {
    "collapsed": true
   },
   "outputs": [],
   "source": [
    "some_list = [10,20,30]\n",
    "some_list[0] = 50\n",
    "print(some_list)"
   ]
  },
  {
   "cell_type": "markdown",
   "metadata": {},
   "source": [
    "list indexing"
   ]
  },
  {
   "cell_type": "code",
   "execution_count": null,
   "metadata": {
    "collapsed": true
   },
   "outputs": [],
   "source": [
    "some_list = []\n",
    "for i in range(5):\n",
    "    some_list.append(i)\n",
    "print(some_list)"
   ]
  },
  {
   "cell_type": "code",
   "execution_count": null,
   "metadata": {
    "collapsed": true
   },
   "outputs": [],
   "source": [
    "some_list.pop(0)\n",
    "some_list.remove(30)"
   ]
  },
  {
   "cell_type": "markdown",
   "metadata": {},
   "source": [
    "<h3><font color=\"red\">DANGER</font></h3>\n",
    "\n",
    "The following two cells demonstrate a common (and confusing) python gotcha when dealing with lists."
   ]
  },
  {
   "cell_type": "code",
   "execution_count": 13,
   "metadata": {
    "collapsed": false
   },
   "outputs": [
    {
     "name": "stdout",
     "output_type": "stream",
     "text": [
      "[50, 20, 30]\n",
      "[50, 20, 30]\n"
     ]
    }
   ],
   "source": [
    "some_list = [10,20,30]\n",
    "\n",
    "another_list = some_list\n",
    "some_list[0] = 50\n",
    "\n",
    "print(some_list)\n",
    "print(another_list)"
   ]
  },
  {
   "cell_type": "code",
   "execution_count": 14,
   "metadata": {
    "collapsed": false,
    "scrolled": false
   },
   "outputs": [
    {
     "name": "stdout",
     "output_type": "stream",
     "text": [
      "[50, 20, 30]\n",
      "[10, 20, 30]\n"
     ]
    }
   ],
   "source": [
    "import copy\n",
    "\n",
    "some_list = [10,20,30]\n",
    "\n",
    "another_list = copy.deepcopy(some_list)\n",
    "some_list[0] = 50\n",
    "\n",
    "print(some_list)\n",
    "print(another_list)"
   ]
  },
  {
   "cell_type": "markdown",
   "metadata": {},
   "source": [
    "#### Think about it for a moment.  What might be going on?"
   ]
  },
  {
   "cell_type": "markdown",
   "metadata": {},
   "source": [
    "## Explanation\n",
    "\n",
    "#### In the first case:\n",
    "\n",
    "The statement\n",
    "\n",
    "```python\n",
    "    another_list = some_list\n",
    "```\n",
    "\n",
    "says that `another_list` **is** `some_list`.  These are now two labels for the same underlying object.  It does **not** create a new object. If I change `some_list`, it changes `another_list` because they are the same thing. In programming terms, `another_list` and `some_list` are both references to the same object. \n",
    "\n",
    "\n",
    "Here's an analogy. I can write:\n",
    "\n",
    "```\n",
    "Mary is also known as Jane.\n",
    "```\n",
    "\n",
    "I can then use `Mary` or `Jane` and it will be understood both labels point to the same person.  Further, if I say, `Jane has red hair`, it implies that `Mary` also has red hair because they are the same person.  This is exactly like modifying `some_list` (Mary) and seeing the change in `another_list` (Jane).  \n",
    "\n",
    "#### In the second case:\n",
    "\n",
    "The statement\n",
    "\n",
    "```python\n",
    "    another_list = copy.deepcopy(some_list)\n",
    "```\n",
    "\n",
    "says to make a copy of `some_list` and call it `another_list`.  These are now independent. I can modify one without modifiying another.  (In programming terms, `another_list` and `some_list` now refer to different objects). \n",
    "\n",
    "In our `Mary` and `Jane` analogy, the sentence would be:\n",
    "\n",
    "```\n",
    "I cloned Mary and named the clone Jane.\n",
    "```\n",
    "\n",
    "Now the two labels point to to different people.  If I say `Jane has red hair` it does not imply that `Mary has red hair`.  This is why we can modify `some_list` (Mary) and see no change on `another_list` (clone Jane).  \n",
    "\n",
    "\n",
    "\n",
    "\n",
    "\n"
   ]
  },
  {
   "cell_type": "code",
   "execution_count": null,
   "metadata": {
    "collapsed": false
   },
   "outputs": [],
   "source": [
    "import copy  \n",
    "\n",
    "x = [[1,2,3],[4,5,6]]\n",
    "y = copy.deepcopy(x)\n",
    "\n",
    "x[0][0] = 10\n",
    "\n",
    "print(y)"
   ]
  },
  {
   "cell_type": "code",
   "execution_count": null,
   "metadata": {
    "collapsed": true
   },
   "outputs": [],
   "source": []
  },
  {
   "cell_type": "markdown",
   "metadata": {},
   "source": [
    "### Tuples\n",
    "Tuples are like lists, but are *immutable*, meaning that once you've made them they can't be changed. "
   ]
  },
  {
   "cell_type": "code",
   "execution_count": null,
   "metadata": {
    "collapsed": true
   },
   "outputs": [],
   "source": [
    "some_tuple = (10,20,30)\n",
    "print(some_tuple[1])"
   ]
  },
  {
   "cell_type": "code",
   "execution_count": null,
   "metadata": {
    "collapsed": false
   },
   "outputs": [],
   "source": [
    "some_tuple = (10,20,30)\n",
    "some_tuple[1] = 50\n",
    "print(some_tuple[1])"
   ]
  },
  {
   "cell_type": "code",
   "execution_count": null,
   "metadata": {
    "collapsed": false
   },
   "outputs": [],
   "source": [
    "some_tuple = (10,20,30)\n",
    "some_tuple.append(10)"
   ]
  },
  {
   "cell_type": "code",
   "execution_count": null,
   "metadata": {
    "collapsed": true
   },
   "outputs": [],
   "source": []
  },
  {
   "cell_type": "markdown",
   "metadata": {},
   "source": [
    "### Strings\n",
    "Strings hold text.  They are actually lists under the hood. "
   ]
  },
  {
   "cell_type": "code",
   "execution_count": null,
   "metadata": {
    "collapsed": true
   },
   "outputs": [],
   "source": []
  },
  {
   "cell_type": "code",
   "execution_count": null,
   "metadata": {
    "collapsed": true
   },
   "outputs": [],
   "source": []
  },
  {
   "cell_type": "markdown",
   "metadata": {},
   "source": [
    "### Dictionaries\n",
    "Dictionaries map `keys` to `values`.  The `keys` and `values` can be almost anything. "
   ]
  },
  {
   "cell_type": "code",
   "execution_count": 11,
   "metadata": {
    "collapsed": false,
    "scrolled": true
   },
   "outputs": [
    {
     "ename": "SyntaxError",
     "evalue": "EOL while scanning string literal (<ipython-input-11-ac86a6cb44f8>, line 1)",
     "output_type": "error",
     "traceback": [
      "\u001b[0;36m  File \u001b[0;32m\"<ipython-input-11-ac86a6cb44f8>\"\u001b[0;36m, line \u001b[0;32m1\u001b[0m\n\u001b[0;31m    some_dict = {\"a}\u001b[0m\n\u001b[0m                    ^\u001b[0m\n\u001b[0;31mSyntaxError\u001b[0m\u001b[0;31m:\u001b[0m EOL while scanning string literal\n"
     ]
    }
   ],
   "source": [
    "some_dict = {\"a\":10,\n",
    "             \"b\":20,\n",
    "             \"c\":30}\n",
    "print(some_dict[\"a\"])"
   ]
  },
  {
   "cell_type": "code",
   "execution_count": null,
   "metadata": {
    "collapsed": true
   },
   "outputs": [],
   "source": [
    "some_dict = {\"a\":10,\"b\":20,\"c\":30}\n",
    "print(some_dict[\"b\"])"
   ]
  },
  {
   "cell_type": "code",
   "execution_count": null,
   "metadata": {
    "collapsed": true
   },
   "outputs": [],
   "source": [
    "some_dict = {\"a\":10,\"b\":20,\"c\":30}\n",
    "print(some_dict[10])"
   ]
  },
  {
   "cell_type": "code",
   "execution_count": null,
   "metadata": {
    "collapsed": true
   },
   "outputs": [],
   "source": [
    "some_dict = {\"a\":10,\"b\":20,\"c\":30}\n",
    "some_dict[\"c\"] = 50\n",
    "print(some_dict)"
   ]
  },
  {
   "cell_type": "code",
   "execution_count": null,
   "metadata": {
    "collapsed": true
   },
   "outputs": [],
   "source": [
    "some_dict = {\"a\":10,\"b\":20,\"c\":30}\n",
    "some_dict[\"d\"] = 50\n",
    "print(some_dict)"
   ]
  },
  {
   "cell_type": "code",
   "execution_count": 12,
   "metadata": {
    "collapsed": false
   },
   "outputs": [
    {
     "name": "stdout",
     "output_type": "stream",
     "text": [
      "10\n",
      "{'b': 20, 'c': 30}\n"
     ]
    }
   ],
   "source": [
    "some_dict = {\"a\":10,\"b\":20,\"c\":30}\n",
    "x = some_dict.pop(\"a\")\n",
    "print(x)\n",
    "print(some_dict)"
   ]
  },
  {
   "cell_type": "code",
   "execution_count": null,
   "metadata": {
    "collapsed": true
   },
   "outputs": [],
   "source": []
  }
 ],
 "metadata": {
  "kernelspec": {
   "display_name": "Python 3",
   "language": "python",
   "name": "python3"
  },
  "language_info": {
   "codemirror_mode": {
    "name": "ipython",
    "version": 3
   },
   "file_extension": ".py",
   "mimetype": "text/x-python",
   "name": "python",
   "nbconvert_exporter": "python",
   "pygments_lexer": "ipython3",
   "version": "3.5.2"
  }
 },
 "nbformat": 4,
 "nbformat_minor": 1
}
