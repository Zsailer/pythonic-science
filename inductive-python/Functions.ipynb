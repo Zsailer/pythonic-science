{
 "cells": [
  {
   "cell_type": "markdown",
   "metadata": {},
   "source": [
    "# Functions\n",
    "\n",
    "### Conceptual goals\n",
    " + Understand the utility of functions\n",
    " + Understand what they do in a python program\n",
    " \n",
    "### Skill goals\n",
    " + Be able to implement a new function\n",
    " + Recognize elements of code that should be wrapped in a function and re-used\n",
    "\n",
    "\n",
    "### Starting point:\n",
    "\n",
    "In this exercise, we're going to calculate one of the roots from the quadratic formula:\n",
    "\n",
    "$r_{p} = \\frac{-b + \\sqrt{b^{2} - 4ac}}{2a}$\n",
    "\n",
    "Couple of python bits:\n",
    "\n",
    "+ You can calculate a square root by `import math` and then `math.sqrt`.  \n",
    "+ Strangely enough, a square in python is `x**2` not `x^2`. \n"
   ]
  },
  {
   "cell_type": "markdown",
   "metadata": {},
   "source": [
    "### Determine $r_{p}$ for $a = 1$, $b=4$, and $c=3$.  "
   ]
  },
  {
   "cell_type": "code",
   "execution_count": 12,
   "metadata": {
    "collapsed": false
   },
   "outputs": [],
   "source": [
    "## Code here\n"
   ]
  },
  {
   "cell_type": "markdown",
   "metadata": {},
   "source": [
    "### What about for $a = 2$, $b = 8$, and $c = 1$?"
   ]
  },
  {
   "cell_type": "code",
   "execution_count": 13,
   "metadata": {
    "collapsed": false
   },
   "outputs": [],
   "source": [
    "## Code here \n"
   ]
  },
  {
   "cell_type": "markdown",
   "metadata": {},
   "source": [
    "### <font color=\"blue\">Functions:</font>\n",
    "\n",
    "To make code reusable and avoid having to re-type the same code (each time, maybe making an error), code can be organized into **functions**.  These functions allow you to wrap a piece of code and use it over and over.  The following code cells show two simple functions:"
   ]
  },
  {
   "cell_type": "code",
   "execution_count": 14,
   "metadata": {
    "collapsed": false
   },
   "outputs": [
    {
     "name": "stdout",
     "output_type": "stream",
     "text": [
      "25\n"
     ]
    }
   ],
   "source": [
    "def square(x):\n",
    "    \"\"\"\n",
    "    This function will square x.\n",
    "    \"\"\"\n",
    "    \n",
    "    return x*x\n",
    "\n",
    "s = square(5)\n",
    "\n",
    "print(s)\n"
   ]
  },
  {
   "cell_type": "code",
   "execution_count": 16,
   "metadata": {
    "collapsed": false
   },
   "outputs": [
    {
     "name": "stdout",
     "output_type": "stream",
     "text": [
      "1.0\n"
     ]
    }
   ],
   "source": [
    "import math\n",
    "\n",
    "def hypotenuse(y,theta):\n",
    "    \"\"\"\n",
    "    Return a hypotenuse given y and theta in radians.\n",
    "    \"\"\"\n",
    "    \n",
    "    return math.sin(theta)*y\n",
    "    \n",
    "\n",
    "h = hypotenuse(1,math.pi/2)\n",
    "\n",
    "print(h)\n",
    "    "
   ]
  },
  {
   "cell_type": "markdown",
   "metadata": {},
   "source": [
    "### Looking at these examples, what is the syntax for defining a function?"
   ]
  },
  {
   "cell_type": "markdown",
   "metadata": {},
   "source": [
    " "
   ]
  },
  {
   "cell_type": "markdown",
   "metadata": {},
   "source": [
    "### How do you get information into a function?"
   ]
  },
  {
   "cell_type": "markdown",
   "metadata": {},
   "source": [
    " "
   ]
  },
  {
   "cell_type": "markdown",
   "metadata": {},
   "source": [
    "### How do you get information out of a function?"
   ]
  },
  {
   "cell_type": "markdown",
   "metadata": {},
   "source": [
    " "
   ]
  },
  {
   "cell_type": "markdown",
   "metadata": {},
   "source": [
    "### In the cell below, implement a quadratic root solver as a function.\n",
    "(Make sure you get the same results you got above!)"
   ]
  },
  {
   "cell_type": "code",
   "execution_count": 18,
   "metadata": {
    "collapsed": false
   },
   "outputs": [],
   "source": [
    "## Code here\n",
    "\n"
   ]
  },
  {
   "cell_type": "markdown",
   "metadata": {},
   "source": [
    "### Rule of thumb: <font color=\"red\">NEVER</font> copy a block of code in the same program! "
   ]
  }
 ],
 "metadata": {
  "kernelspec": {
   "display_name": "Python 3",
   "language": "python",
   "name": "python3"
  },
  "language_info": {
   "codemirror_mode": {
    "name": "ipython",
    "version": 3
   },
   "file_extension": ".py",
   "mimetype": "text/x-python",
   "name": "python",
   "nbconvert_exporter": "python",
   "pygments_lexer": "ipython3",
   "version": "3.5.2"
  }
 },
 "nbformat": 4,
 "nbformat_minor": 1
}
