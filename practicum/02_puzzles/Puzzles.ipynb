{
 "cells": [
  {
   "cell_type": "markdown",
   "metadata": {},
   "source": [
    "# PART I"
   ]
  },
  {
   "cell_type": "markdown",
   "metadata": {},
   "source": [
    "## Simple functions\n",
    "\n",
    "+ Write a function called **`palindrome`** that will take any list and decide whether or not is a palindrome. (A palindrome is something that is the same read forwards or backwards like \"RACECAR\").  "
   ]
  },
  {
   "cell_type": "code",
   "execution_count": 1,
   "metadata": {
    "collapsed": false
   },
   "outputs": [],
   "source": []
  },
  {
   "cell_type": "code",
   "execution_count": 2,
   "metadata": {
    "collapsed": false
   },
   "outputs": [],
   "source": [
    "# do not erase this cell; it is for the autograder\n",
    "assert palindrome(\"RACECAR\") == True\n",
    "assert palindrome(\"TEST\") == False"
   ]
  },
  {
   "cell_type": "markdown",
   "metadata": {},
   "source": [
    "+ Write a function called **`prime`** that determines whether an integer number is prime. (Hint: you might want to use the [modulo operator](http://stackoverflow.com/questions/4432208/how-does-work-in-python))"
   ]
  },
  {
   "cell_type": "code",
   "execution_count": 244,
   "metadata": {
    "collapsed": false,
    "scrolled": true
   },
   "outputs": [],
   "source": []
  },
  {
   "cell_type": "code",
   "execution_count": 245,
   "metadata": {
    "collapsed": false
   },
   "outputs": [],
   "source": [
    "# do not erase this cell; it is for the autograder\n",
    "assert prime(20) == False\n",
    "assert prime(42979) == True"
   ]
  },
  {
   "cell_type": "markdown",
   "metadata": {},
   "source": [
    " + Write a function called **`reverse_complement`** that returns the reverse complement of any DNA sequence."
   ]
  },
  {
   "cell_type": "code",
   "execution_count": 246,
   "metadata": {
    "collapsed": true
   },
   "outputs": [],
   "source": []
  },
  {
   "cell_type": "code",
   "execution_count": 247,
   "metadata": {
    "collapsed": false
   },
   "outputs": [],
   "source": [
    "# do not erase this cell; it is for the autograder\n",
    "assert reverse_complement(\"ATGCTCGAA\") == \"TTCGAGCAT\""
   ]
  },
  {
   "cell_type": "markdown",
   "metadata": {},
   "source": [
    "## Deadly Board Game\n",
    "\n",
    "While traveling in the Kingdom of Arbitraria, you are accused of a heinous crime. Arbitraria decides who’s guilty or innocent not through a court system, but a board game. It’s played on a simple board: a track with sequential spaces numbered from 0 to 1,000. The zero space is marked “start,” and your token is placed on it. You are handed a fair six-sided die and three coins. You are allowed to place the coins on three different (nonzero) spaces. Once placed, the coins may not be moved.\n",
    "\n",
    "After placing the three coins, you roll the die and move your token forward the appropriate number of spaces. If, after moving the token, it lands on a space with a coin on it, you are freed. If not, you roll again and continue moving forward. If your token passes all three coins without landing on one, you are executed. On which three spaces should you place the coins to maximize your chances of survival?\n",
    "\n",
    "Source: [fivethirtyeight](https://fivethirtyeight.com/features/can-you-survive-this-deadly-board-game/)"
   ]
  },
  {
   "cell_type": "code",
   "execution_count": 253,
   "metadata": {
    "collapsed": true
   },
   "outputs": [],
   "source": []
  },
  {
   "cell_type": "code",
   "execution_count": 255,
   "metadata": {
    "collapsed": false
   },
   "outputs": [],
   "source": [
    "# do not erase this cell; it is for the autograder\n",
    "assert len(coin_placement) == 3\n",
    "assert len(list(dict([(p,[]) for p in coin_placement]).keys())) == 3\n",
    "assert max(coin_placement) <= 99\n",
    "assert min(coin_placement) >= 0"
   ]
  },
  {
   "cell_type": "markdown",
   "metadata": {},
   "source": [
    "## Battle Royale\n",
    "\n",
    "In a distant, war-torn land, there are 10 castles. There are two warlords: you and your archenemy. Each castle has its own strategic value for a would-be conqueror. Specifically, the castles are worth 1, 2, 3, …, 9, and 10 victory points. You and your enemy each have 100 soldiers to distribute, any way you like, to fight at any of the 10 castles. Whoever sends more soldiers to a given castle conquers that castle and wins its victory points. If you each send the same number of troops, you split the points. You don’t know what distribution of forces your enemy has chosen until the battles begin. Whoever wins the most points wins the war.\n",
    "\n",
    "Submit a plan distributing your 100 soldiers among the 10 castles as a python list. Once I receive all your battle plans, I’ll adjudicate all the possible one-on-one matchups. Whoever wins the most wars wins the battle royale and is crowned king or queen of, er, something.\n",
    "\n",
    "Source: [fivethirtyeight](https://fivethirtyeight.com/features/can-you-rule-riddler-nation/)"
   ]
  },
  {
   "cell_type": "code",
   "execution_count": null,
   "metadata": {
    "collapsed": true
   },
   "outputs": [],
   "source": [
    "GRAPHING STUFF HERE"
   ]
  },
  {
   "cell_type": "code",
   "execution_count": null,
   "metadata": {
    "collapsed": true
   },
   "outputs": [],
   "source": []
  },
  {
   "cell_type": "markdown",
   "metadata": {},
   "source": [
    "## asd\n",
    "\n",
    "Write a function that calculates stuff.\n",
    "\n",
    "$$\\frac{dx}{dt} = \\sigma ( y - x)$$\n",
    "$$\\frac{dy}{dt} = x(\\rho - z) - y$$\n",
    "$$\\frac{dz}{dt} = xy - \\beta z$$\n",
    "\n",
    "$$\\sigma \\equiv 10; b \\equiv \\frac{8}{3}; \\rho \\equiv 28$$\n"
   ]
  },
  {
   "cell_type": "code",
   "execution_count": 35,
   "metadata": {
    "collapsed": false
   },
   "outputs": [
    {
     "name": "stdout",
     "output_type": "stream",
     "text": [
      "[1.0, 1.0, 261.0, -2062.3333333333335, 18271.000000000004, 152595646.308642, -10031577183.197495, -4.25906462327267e+20, -1.3253824022616063e+28, 1.819691131567076e+51, 7.481639107070103e+76]\n"
     ]
    },
    {
     "data": {
      "image/png": "[encoded data removed]",
      "text/plain": [
       "<matplotlib.figure.Figure at 0x7f12c1918da0>"
      ]
     },
     "metadata": {},
     "output_type": "display_data"
    }
   ],
   "source": [
    "%matplotlib inline\n",
    "import numpy as np\n",
    "from matplotlib import pyplot as plt\n",
    "\n",
    "def lorenz(sigma,rho,beta):\n",
    "    \n",
    "    x = 1.0\n",
    "    y = 1.0\n",
    "    z = 1.0\n",
    "    \n",
    "    x_list = [x]\n",
    "    y_list = [y]\n",
    "    z_list = [z]\n",
    "    for i in range(10):\n",
    "    \n",
    "        dxdt = sigma*(y - x)\n",
    "        dydt = x*(rho - z) - y\n",
    "        dzdt = x*y - beta*z\n",
    "        \n",
    "        x = x + dxdt\n",
    "        y = y + dydt\n",
    "        z = z + dzdt\n",
    "        \n",
    "        x_list.append(x)\n",
    "        y_list.append(y)\n",
    "        z_list.append(z)\n",
    "\n",
    "\n",
    "    print(x_list)\n",
    "    plt.plot(np.array(x_list),np.array(z_list))\n",
    "    \n",
    "lorenz(10,28,8/3.)"
   ]
  },
  {
   "cell_type": "code",
   "execution_count": 34,
   "metadata": {
    "collapsed": false
   },
   "outputs": [
    {
     "ename": "NameError",
     "evalue": "name 'x_list' is not defined",
     "output_type": "error",
     "traceback": [
      "\u001b[0;31m---------------------------------------------------------------------------\u001b[0m",
      "\u001b[0;31mNameError\u001b[0m                                 Traceback (most recent call last)",
      "\u001b[0;32m<ipython-input-34-e4bbe72f080b>\u001b[0m in \u001b[0;36m<module>\u001b[0;34m()\u001b[0m\n\u001b[0;32m----> 1\u001b[0;31m \u001b[0mx_list\u001b[0m\u001b[0;34m\u001b[0m\u001b[0m\n\u001b[0m",
      "\u001b[0;31mNameError\u001b[0m: name 'x_list' is not defined"
     ]
    }
   ],
   "source": [
    "x_list"
   ]
  },
  {
   "cell_type": "code",
   "execution_count": 32,
   "metadata": {
    "collapsed": false
   },
   "outputs": [],
   "source": [
    "import numpy as np\n",
    "import matplotlib.pyplot as plt\n",
    "from scipy.integrate import odeint\n",
    "#from mpl_toolkits.mplot3d import Axes3D\n",
    "\n",
    "rho = 28.0\n",
    "sigma = 10.0\n",
    "beta = 8.0 / 3.0\n",
    "\n",
    "def f(state, t):\n",
    "    x, y, z = state  # unpack the state vector\n",
    "    return sigma * (y - x), x * (rho - z) - y, x * y - beta * z  # derivatives\n",
    "\n",
    "state0 = [1.0, 1.0, 1.0]\n",
    "t = np.arange(0.0, 40.0, 0.01)\n",
    "\n",
    "states = odeint(f, state0, t)\n",
    "\n",
    "#fig = plt.figure()\n",
    "#ax = fig.gca(projection='3d')\n",
    "#ax.plot(states[:,0], states[:,1], states[:,2])\n",
    "#plt.show()"
   ]
  },
  {
   "cell_type": "code",
   "execution_count": 33,
   "metadata": {
    "collapsed": false
   },
   "outputs": [
    {
     "data": {
      "text/plain": [
       "array([[  1.        ,   1.        ,   1.        ],\n",
       "       [  1.01256574,   1.25992001,   0.98489104],\n",
       "       [  1.04882146,   1.52400084,   0.97311434],\n",
       "       ..., \n",
       "       [ -0.33859829,  -1.01711937,  17.57430488],\n",
       "       [ -0.40452056,  -1.04645995,  17.11563711],\n",
       "       [ -0.46737123,  -1.08428611,  16.66983792]])"
      ]
     },
     "execution_count": 33,
     "metadata": {},
     "output_type": "execute_result"
    }
   ],
   "source": [
    "states"
   ]
  },
  {
   "cell_type": "markdown",
   "metadata": {},
   "source": [
    "# PART II\n",
    "\n",
    "### Goals\n",
    "\n",
    "#### Conceptual\n",
    " + Understand how docs are built in python for figuring out how functions and other programing elements \"on-the-fly.\"\n",
    " + Learn that it's okay to mess around to figure out a program.\n",
    "\n",
    "#### Skill\n",
    " + Be able to figure out the parts of a library you need to be successful given that library and its documentation.\n",
    " + Learn how to land a rocket in an emergency."
   ]
  },
  {
   "cell_type": "markdown",
   "metadata": {},
   "source": [
    "## Rocket Landing\n",
    "\n",
    "You are in a rocket falling from 1000 m above the surface of an alien world.  You need to program the computer to fire the thrusters to land safely. Fortunately the rocket is controlled by python.  Unfortunately, you don't have a software manual. You'll have to figure out how to land the rocket given only the code itself. \n",
    "\n",
    "### Objective\n",
    "\n",
    "Modify the code below so the rocket lands safely.  We'll test your approach using a fresh version of `rocket.Rocket`, so no [hacking the rocket to win](https://en.wikipedia.org/wiki/Kobayashi_Maru).  \n",
    "\n",
    "### Hints\n",
    "\n",
    "#### API:\n",
    " + Tab-complete and `help()` are your friends\n",
    " + Feel free to mess around and explore the code\n",
    "\n",
    "#### Rocket:\n",
    " + Graphs will help a lot\n",
    " + Use different thrust levels for different altitudes\n",
    " + Make the amount of thrust depend on the velocity"
   ]
  },
  {
   "cell_type": "code",
   "execution_count": 248,
   "metadata": {
    "collapsed": false
   },
   "outputs": [
    {
     "name": "stdout",
     "output_type": "stream",
     "text": [
      "CRASHED: Your party contracts typhoid.  You are all dead.\n"
     ]
    }
   ],
   "source": [
    "import rocket\n",
    "\n",
    "R = rocket.Rocket()\n",
    "while R.alive and not R.landed:\n",
    "\n",
    "    # <- Your code here ->\n",
    "    \n",
    "    R.update()\n",
    "    "
   ]
  },
  {
   "cell_type": "code",
   "execution_count": 251,
   "metadata": {
    "collapsed": false
   },
   "outputs": [
    {
     "ename": "AssertionError",
     "evalue": "",
     "output_type": "error",
     "traceback": [
      "\u001b[0;31m---------------------------------------------------------------------------\u001b[0m",
      "\u001b[0;31mAssertionError\u001b[0m                            Traceback (most recent call last)",
      "\u001b[0;32m<ipython-input-251-2d354c21cd12>\u001b[0m in \u001b[0;36m<module>\u001b[0;34m()\u001b[0m\n\u001b[0;32m----> 1\u001b[0;31m \u001b[0;32massert\u001b[0m \u001b[0mR\u001b[0m\u001b[0;34m.\u001b[0m\u001b[0malive\u001b[0m \u001b[0;32mand\u001b[0m \u001b[0mR\u001b[0m\u001b[0;34m.\u001b[0m\u001b[0mlanded\u001b[0m\u001b[0;34m\u001b[0m\u001b[0m\n\u001b[0m",
      "\u001b[0;31mAssertionError\u001b[0m: "
     ]
    }
   ],
   "source": [
    "# do not erase this cell; it is for the autograder\n",
    "assert R.alive and R.landed"
   ]
  },
  {
   "cell_type": "code",
   "execution_count": null,
   "metadata": {
    "collapsed": true
   },
   "outputs": [],
   "source": []
  }
 ],
 "metadata": {
  "kernelspec": {
   "display_name": "Python 3",
   "language": "python",
   "name": "python3"
  },
  "language_info": {
   "codemirror_mode": {
    "name": "ipython",
    "version": 3
   },
   "file_extension": ".py",
   "mimetype": "text/x-python",
   "name": "python",
   "nbconvert_exporter": "python",
   "pygments_lexer": "ipython3",
   "version": "3.5.2"
  }
 },
 "nbformat": 4,
 "nbformat_minor": 1
}
