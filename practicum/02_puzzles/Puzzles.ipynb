{
 "cells": [
  {
   "cell_type": "markdown",
   "metadata": {},
   "source": [
    "#### Problem \n",
    "\n",
    "Find out whether a list is a palindrome.\n",
    "A palindrome can be read forward or backward; e.g. [x,a,m,a,x].\n",
    "\n",
    "Source: [prolog](https://sites.google.com/site/prologsite/prolog-problems/)"
   ]
  },
  {
   "cell_type": "markdown",
   "metadata": {},
   "source": [
    "#### Problem\n",
    "\n",
    "Duplicate the elements of a list a given number of times.\n",
    "\n",
    "?- dupli([a,b,c],3,X).\n",
    "X = [a,a,a,b,b,b,c,c,c]\n",
    "\n",
    "Source: [prolog](https://sites.google.com/site/prologsite/prolog-problems/)"
   ]
  },
  {
   "cell_type": "markdown",
   "metadata": {},
   "source": [
    "#### Problem\n",
    "\n",
    "Determine whether a given integer number is prime. (Hint: you might want to use the [modulo operator](http://stackoverflow.com/questions/4432208/how-does-work-in-python))"
   ]
  },
  {
   "cell_type": "markdown",
   "metadata": {},
   "source": [
    "#### Problem\n",
    "\n",
    "Given a list of integer numbers, find a correct way of inserting arithmetic signs (operators) such that the result is a correct equation. \n",
    "\n",
    "Example: With the list of numbers [2,3,5,7,11] we can form the equations 2-3+5+7 = 11 or 2 = (3*5+7)/11 (and ten others!).\n",
    "\n",
    "Source: [prolog](https://sites.google.com/site/prologsite/prolog-problems/)"
   ]
  },
  {
   "cell_type": "markdown",
   "metadata": {},
   "source": [
    "#### Problem \n",
    "\n",
    "You place 100 coins heads up in a row and number them by position, with the coin all the way on the left No. 1 and the one on the rightmost edge No. 100. Next, for every number N, from 1 to 100, you flip over every coin whose position is a multiple of N. For example, first you’ll flip over all the coins, because every number is a multiple of 1. Then you’ll flip over all the even-numbered coins, because they’re multiples of 2. Then you’ll flip coins No. 3, 6, 9, 12 … And so on.\n",
    "\n",
    "What do the coins look like when you’re done? Specifically, which coins are heads down?\n",
    "\n",
    "Source: [fivethirtyeight](https://fivethirtyeight.com/features/can-you-survive-this-deadly-board-game/)"
   ]
  },
  {
   "cell_type": "markdown",
   "metadata": {},
   "source": [
    "#### Problem\n",
    "\n",
    "You are studying a strain of bacteria that double every 30 minutes under your experimental conditions. \n",
    "    \n",
    "        "
   ]
  }
 ],
 "metadata": {
  "kernelspec": {
   "display_name": "Python 3",
   "language": "python",
   "name": "python3"
  },
  "language_info": {
   "codemirror_mode": {
    "name": "ipython",
    "version": 3
   },
   "file_extension": ".py",
   "mimetype": "text/x-python",
   "name": "python",
   "nbconvert_exporter": "python",
   "pygments_lexer": "ipython3",
   "version": "3.5.2"
  }
 },
 "nbformat": 4,
 "nbformat_minor": 1
}
