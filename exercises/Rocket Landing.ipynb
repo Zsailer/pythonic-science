{
 "cells": [
  {
   "cell_type": "markdown",
   "metadata": {},
   "source": [
    "# Rocket Landing\n",
    "\n",
    "You are in a rocket falling from 1000 m above the surface of an alien world.  You need to program the computer to fire the thrusters to land safely. Fortunately the rocket is controlled by python.  Unfortunately, you don't have a software manual. You'll have to figure out how to land the rocket given only the code itself. \n",
    "\n",
    "## Objective\n",
    "\n",
    "Modify the code below so the rocket lands safely.  We'll test your approach using a fresh version of `rocket.Rocket`, so no [hacking the rocket to win](https://en.wikipedia.org/wiki/Kobayashi_Maru).  \n",
    "\n",
    "\n",
    "## Goals\n",
    "\n",
    "### Conceptual\n",
    " + Understand how docs are built in python for figuring out how functions and other programing elements \"on-the-fly.\"\n",
    " + Learn that it's okay to mess around to figure out a program.\n",
    "\n",
    "### Skill\n",
    " + Be able to figure out the parts of a library you need to be successful given that library and its documentation.\n",
    " + Learn how to land a rocket in an emergency.\n",
    "\n",
    "## Hints\n",
    "\n",
    "### API:\n",
    " + Tab-complete and `help()` are your friends\n",
    " + Feel free to mess around and explore the code\n",
    "\n",
    "### Rocket:\n",
    " + Graphs will help a lot\n",
    " + Use different thrust levels for different altitudes\n",
    " + Make the amount of thrust depend on the velocity"
   ]
  },
  {
   "cell_type": "code",
   "execution_count": null,
   "metadata": {
    "collapsed": false
   },
   "outputs": [],
   "source": [
    "import rocket\n",
    "\n",
    "R = rocket.Rocket()\n",
    "while R.alive and not R.landed:    \n",
    "    R.update()\n",
    "    "
   ]
  },
  {
   "cell_type": "code",
   "execution_count": null,
   "metadata": {
    "collapsed": true
   },
   "outputs": [],
   "source": []
  },
  {
   "cell_type": "code",
   "execution_count": null,
   "metadata": {
    "collapsed": true
   },
   "outputs": [],
   "source": []
  }
 ],
 "metadata": {
  "kernelspec": {
   "display_name": "Python 3",
   "language": "python",
   "name": "python3"
  },
  "language_info": {
   "codemirror_mode": {
    "name": "ipython",
    "version": 3
   },
   "file_extension": ".py",
   "mimetype": "text/x-python",
   "name": "python",
   "nbconvert_exporter": "python",
   "pygments_lexer": "ipython3",
   "version": "3.5.2"
  }
 },
 "nbformat": 4,
 "nbformat_minor": 1
}
