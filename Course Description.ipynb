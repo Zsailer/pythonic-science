{
 "cells": [
  {
   "cell_type": "markdown",
   "metadata": {},
   "source": [
    "# Applied Scientific Computing\n",
    "\n",
    "Programming skills are increasingly integral to all aspects of physical and biological research. Programming competency enables science because the researcher is not limited to “canned” analyses and approaches. Rather, a scientific programmer can flexibly learn, apply and alter existing software as needed to answer scientific questions. This includes conceiving of and analyzing big-data experiments, mining databases of chemical and biological data, performing image analyses, fitting non-standard models to data, and prototyping experiments in silico to facilitate experimental design. \n",
    "\n",
    "Given the explosion of open source scientific software packages and libraries, a small amount of programming knowledge can allow for highly sophisticated analyses. A researcher needs to be able to find already-available tools, set them up locally, and then write a small amount of code to apply these general tools to their specific question. \n",
    "\n",
    "This course aims to teach these general skills. Students will not learn specific software packages or statistical/computational theory. Rather, the goal is for them to gain basic proficiency in the powerful and extensible Python programming language and have the confidence and skills to identify existing software libraries to leverage to further their research. \n",
    "\n",
    "## Conceptual goals\n",
    "\n",
    "By the end of the course, students should understand:\n",
    "\n",
    " * Basic python: data types, key words, control, functions and extensions\n",
    " * Python extensions for scientists: scipy, numpy, and iPython\n",
    " * Strategies for dissecting problems and formulating solutions in code\n",
    " * Where to go to pick up skills in the future as the need arises\n",
    "\n",
    "## Skill Goals\n",
    "\n",
    "By the end of the course, students will be able to:\n",
    "\n",
    " * Generate arbitrarily complex custom plots\n",
    " * Write code to read, parse, and write text files\n",
    " * Simulate experimental outcomes to aid in experimental design\n",
    " * Regress a mathematical model to experimental data\n",
    " * Identify existing libraries for a problem and learn how to use them\n",
    "\n",
    "## Approach\n",
    "\n",
    "Teach the students general programing skills through the lens of actual scientific problems. Rather than teaching programming elements up front, we'll use a real research tasks that require specific programing elements. \n",
    "\n",
    "### Examples:\n",
    "\n",
    " * Illustrate reading files and math functions by calculating residue-residue distance from a macromolecular structures downloaded from the protein data bank. \n",
    " * Illustrate dictionary types and the importance of code efficiency by parsing high-throughput sequence output\n",
    " * Illustrate extension libraries and how to learn how to use them by having them figure out how to process fluorescence microscopy images\n",
    "\n",
    "### Implementation\n",
    "Coding will be taught using a collaborative \"pilot/co-pilot\" model. Students work through exercises in class in pairs, trading between being “pilots” (actually typing) and “co-pilots” (watching and providing feedback). This fosters conversation (and thus material recall), collaborative problem solving, and helps separate the mechanics of coding from the concepts. \n",
    "\n",
    "Programming and instruction will be done using the powerful and intuitive iPython programming framework. \n",
    "\n",
    "### Specific topics covered\n",
    "\n",
    "1. Graphing using matplotlib\n",
    "2. Variables and math in python\n",
    "3. Dealing with files\n",
    "4. Loops\n",
    "5. Conditionals\n",
    "6. Lists, tuples and dictionaries\n",
    "7. Functions\n",
    "8. Modules and imports\n",
    "9. Interactive plots\n",
    "10. Nonlinear regression\n",
    "\n",
    "### Term Project\n",
    "To help cement their skills and gain independence, students will develop a useful program that addresses a problem in their current research. The code must use a python library that the student identifies that we did not explicitly discuss in class. "
   ]
  },
  {
   "cell_type": "markdown",
   "metadata": {
    "collapsed": true
   },
   "source": [
    "\n",
    "images, videos\n",
    "\n",
    "1. Video: opencv, skvideo\n",
    "2. Images: pillow, skimage\n",
    "3. newtorks: networkX\n",
    "4. "
   ]
  }
 ],
 "metadata": {
  "kernelspec": {
   "display_name": "Python 3",
   "language": "python",
   "name": "python3"
  },
  "language_info": {
   "codemirror_mode": {
    "name": "ipython",
    "version": 3
   },
   "file_extension": ".py",
   "mimetype": "text/x-python",
   "name": "python",
   "nbconvert_exporter": "python",
   "pygments_lexer": "ipython3",
   "version": "3.5.2"
  }
 },
 "nbformat": 4,
 "nbformat_minor": 1
}
