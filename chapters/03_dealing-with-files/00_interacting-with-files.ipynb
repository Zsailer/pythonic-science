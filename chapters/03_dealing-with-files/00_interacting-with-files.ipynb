{
 "cells": [
  {
   "cell_type": "code",
   "execution_count": null,
   "metadata": {
    "collapsed": true
   },
   "outputs": [],
   "source": []
  },
  {
   "cell_type": "code",
   "execution_count": 21,
   "metadata": {
    "collapsed": false
   },
   "outputs": [
    {
     "name": "stdout",
     "output_type": "stream",
     "text": [
      "['Line 1 of a file\\n', 'It can be a very long line -- up to a basically unlimited number of characters.\\n', '\\n', 'just passed a blank line!\\n']\n"
     ]
    }
   ],
   "source": [
    "f = open(\"test-file.txt\")\n",
    "print(f.readlines())\n",
    "f.close()"
   ]
  },
  {
   "cell_type": "code",
   "execution_count": 22,
   "metadata": {
    "collapsed": false
   },
   "outputs": [
    {
     "name": "stdout",
     "output_type": "stream",
     "text": [
      "Line 1 of a file\n",
      "\n",
      "It can be a very long line -- up to a basically unlimited number of characters.\n",
      "\n",
      "\n",
      "\n",
      "just passed a blank line!\n",
      "\n"
     ]
    }
   ],
   "source": [
    "f = open(\"test-file.txt\")\n",
    "for line in f.readlines():\n",
    "    print(line)\n",
    "f.close()"
   ]
  },
  {
   "cell_type": "markdown",
   "metadata": {
    "slideshow": {
     "slide_type": "slide"
    }
   },
   "source": [
    "## Compare these two cells"
   ]
  },
  {
   "cell_type": "code",
   "execution_count": 23,
   "metadata": {
    "collapsed": false,
    "slideshow": {
     "slide_type": "-"
    }
   },
   "outputs": [
    {
     "name": "stdout",
     "output_type": "stream",
     "text": [
      "Line 1 of a file\n",
      "\n",
      "It can be a very long line -- up to a basically unlimited number of characters.\n",
      "\n",
      "\n",
      "\n",
      "just passed a blank line!\n",
      "\n"
     ]
    }
   ],
   "source": [
    "f = open(\"test-file.txt\")\n",
    "for line in f.readlines():\n",
    "    print(line)\n",
    "f.close()"
   ]
  },
  {
   "cell_type": "code",
   "execution_count": 24,
   "metadata": {
    "collapsed": false,
    "slideshow": {
     "slide_type": "-"
    }
   },
   "outputs": [
    {
     "name": "stdout",
     "output_type": "stream",
     "text": [
      "Line 1 of a file\n",
      "It can be a very long line -- up to a basically unlimited number of characters.\n",
      "\n",
      "just passed a blank line!\n"
     ]
    }
   ],
   "source": [
    "f = open(\"test-file.txt\")\n",
    "for line in f.readlines():\n",
    "    print(line,end=\"\")\n",
    "f.close()"
   ]
  },
  {
   "cell_type": "code",
   "execution_count": 25,
   "metadata": {
    "collapsed": true
   },
   "outputs": [],
   "source": [
    "def file_printer(file_name):\n",
    "    f = open(file_name)\n",
    "    for line in f.readlines():\n",
    "        print(line,end=\"\")\n",
    "    f.close()\n"
   ]
  },
  {
   "cell_type": "code",
   "execution_count": 28,
   "metadata": {
    "collapsed": false
   },
   "outputs": [
    {
     "name": "stdout",
     "output_type": "stream",
     "text": [
      "abc"
     ]
    }
   ],
   "source": [
    "a_list = [\"a\",\"b\",\"c\"]\n",
    "f = open(\"another-file.txt\",\"w\")\n",
    "for a in a_list:\n",
    "    f.write(a)\n",
    "f.close()\n",
    "file_printer(\"another-file.txt\")"
   ]
  },
  {
   "cell_type": "code",
   "execution_count": 29,
   "metadata": {
    "collapsed": false
   },
   "outputs": [
    {
     "name": "stdout",
     "output_type": "stream",
     "text": [
      "a\n",
      "b\n",
      "c\n"
     ]
    }
   ],
   "source": [
    "a_list = [\"a\",\"b\",\"c\"]\n",
    "f = open(\"another-file.txt\",\"w\")\n",
    "for a in a_list:\n",
    "    f.write(a)\n",
    "    f.write(\"\\n\")\n",
    "f.close()\n",
    "file_printer(\"another-file.txt\")"
   ]
  },
  {
   "cell_type": "markdown",
   "metadata": {
    "slideshow": {
     "slide_type": "slide"
    }
   },
   "source": [
    "### Basic file reading operations: \n",
    "\n",
    "+ Open a file for reading: `f = open(SOME_FILE_NAME)` \n",
    "+ Read lines of file sequentially: `f.readlines()`\n",
    "+ Read one line from the file: `f.readline()`\n",
    "+ Read the whole file into a string: `f.read()`\n",
    "+ Close the file: `f.close()`\n",
    "\n"
   ]
  },
  {
   "cell_type": "markdown",
   "metadata": {},
   "source": [
    "### Basic file writing operations: \n",
    "\n",
    "+ Open a file for writing: `f = open(SOME_FILE_NAME,'w')` **will wipe out file immediately!**\n",
    "+ Open a file to append: `f = open(SOME_FILE_NAME,'a')`\n",
    "+ Write to a file: `f.write(SOME_STRING)`\n",
    "+ Write a list of strings: `f.writeline([STRING1,STRING2,...])`\n",
    "+ Close the file: `f.close()`"
   ]
  },
  {
   "cell_type": "code",
   "execution_count": null,
   "metadata": {
    "collapsed": true
   },
   "outputs": [],
   "source": []
  },
  {
   "cell_type": "code",
   "execution_count": 31,
   "metadata": {
    "collapsed": false
   },
   "outputs": [
    {
     "data": {
      "text/plain": [
       "'a\\nb\\nc\\n'"
      ]
     },
     "execution_count": 31,
     "metadata": {},
     "output_type": "execute_result"
    }
   ],
   "source": [
    "f = open(\"another-file.txt\")\n",
    "f.read()\n",
    "f.close()"
   ]
  },
  {
   "cell_type": "code",
   "execution_count": 33,
   "metadata": {
    "collapsed": true
   },
   "outputs": [],
   "source": [
    "f = open(\"another-file.txt\",\"w\")\n",
    "f.writelines([\"a\",\"b\",\"c\"])\n",
    "f.close()\n"
   ]
  },
  {
   "cell_type": "code",
   "execution_count": null,
   "metadata": {
    "collapsed": true
   },
   "outputs": [],
   "source": []
  }
 ],
 "metadata": {
  "celltoolbar": "Slideshow",
  "kernelspec": {
   "display_name": "Python 3",
   "language": "python",
   "name": "python3"
  },
  "language_info": {
   "codemirror_mode": {
    "name": "ipython",
    "version": 3
   },
   "file_extension": ".py",
   "mimetype": "text/x-python",
   "name": "python",
   "nbconvert_exporter": "python",
   "pygments_lexer": "ipython3",
   "version": "3.5.2"
  }
 },
 "nbformat": 4,
 "nbformat_minor": 1
}
