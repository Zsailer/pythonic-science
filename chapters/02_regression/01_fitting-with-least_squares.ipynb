{
 "cells": [
  {
   "cell_type": "code",
   "execution_count": null,
   "metadata": {
    "collapsed": true,
    "slideshow": {
     "slide_type": "slide"
    }
   },
   "outputs": [],
   "source": [
    "%matplotlib inline\n",
    "import numpy as np\n",
    "import matplotlib.pylab as plt"
   ]
  },
  {
   "cell_type": "code",
   "execution_count": null,
   "metadata": {
    "collapsed": true,
    "slideshow": {
     "slide_type": "-"
    }
   },
   "outputs": [],
   "source": [
    "import scipy.optimize\n",
    "import pandas as pd"
   ]
  },
  {
   "cell_type": "markdown",
   "metadata": {
    "slideshow": {
     "slide_type": "slide"
    }
   },
   "source": [
    "## What does the following code do?"
   ]
  },
  {
   "cell_type": "code",
   "execution_count": null,
   "metadata": {
    "collapsed": false,
    "scrolled": true,
    "slideshow": {
     "slide_type": "-"
    }
   },
   "outputs": [],
   "source": [
    "d = pd.read_csv(\"dataset_0.csv\")\n",
    "plt.plot(d.x,d.y,'o')"
   ]
  },
  {
   "cell_type": "markdown",
   "metadata": {
    "slideshow": {
     "slide_type": "slide"
    }
   },
   "source": [
    "## What does the following code do?"
   ]
  },
  {
   "cell_type": "code",
   "execution_count": null,
   "metadata": {
    "collapsed": true,
    "slideshow": {
     "slide_type": "-"
    }
   },
   "outputs": [],
   "source": [
    "def linear(x,a,b):\n",
    "    return a + b*x"
   ]
  },
  {
   "cell_type": "markdown",
   "metadata": {
    "slideshow": {
     "slide_type": "fragment"
    }
   },
   "source": [
    "Defines a linear function of `x` with the slope `a` and the intercept `b`."
   ]
  },
  {
   "cell_type": "markdown",
   "metadata": {
    "slideshow": {
     "slide_type": "slide"
    }
   },
   "source": [
    "## What does the following code do?\n",
    "+ What is the `param` business?\n",
    "+ What is the `y` bit?"
   ]
  },
  {
   "cell_type": "code",
   "execution_count": null,
   "metadata": {
    "collapsed": true,
    "slideshow": {
     "slide_type": "-"
    }
   },
   "outputs": [],
   "source": [
    "def linear_r(param,x,y):\n",
    "    return linear(x,param[0],param[1]) - y"
   ]
  },
  {
   "cell_type": "markdown",
   "metadata": {
    "slideshow": {
     "slide_type": "fragment"
    }
   },
   "source": [
    "+ Defines a *residuals* function for `linear` that compares the output of `linear` to whatever's in `y`.  \n",
    "+ `params` holds `a` and `b` in a list."
   ]
  },
  {
   "cell_type": "markdown",
   "metadata": {
    "slideshow": {
     "slide_type": "slide"
    }
   },
   "source": [
    "## What does the following code do?"
   ]
  },
  {
   "cell_type": "code",
   "execution_count": null,
   "metadata": {
    "collapsed": false,
    "slideshow": {
     "slide_type": "-"
    }
   },
   "outputs": [],
   "source": [
    "def linear_r(param,x,y):                     # copied from previous cell\n",
    "    return linear(x,param[0],param[1]) - y   # copied from previous cell\n",
    "\n",
    "param_guesses = [1,1]\n",
    "fit = scipy.optimize.least_squares(linear_r,param_guesses,args=(d.x,d.y))\n",
    "fit_a = fit.x[0]\n",
    "fit_b = fit.x[1]\n",
    "sum_of_square_residuals = fit.cost"
   ]
  },
  {
   "cell_type": "markdown",
   "metadata": {
    "slideshow": {
     "slide_type": "fragment"
    }
   },
   "source": [
    "+ Uses `least_squares` regression to find values of `a` and `b` that minimize `linear_r` given `d.x` and `d.y`.  \n",
    "+ The fit parameters end up in `fit_a` and `fit_b`\n",
    "+ The $SSR$ is stored in `sum_of_square_residuals`"
   ]
  },
  {
   "cell_type": "markdown",
   "metadata": {
    "slideshow": {
     "slide_type": "slide"
    }
   },
   "source": [
    "## What does the following code do?\n",
    "+ What the heck is `linspace`?\n",
    "+ What are we plotting?"
   ]
  },
  {
   "cell_type": "code",
   "execution_count": null,
   "metadata": {
    "collapsed": false,
    "slideshow": {
     "slide_type": "-"
    }
   },
   "outputs": [],
   "source": [
    "x_range = np.linspace(np.min(d.x),np.max(d.x),100)\n",
    "\n",
    "plt.plot(d.x,d.y,\"o\")\n",
    "plt.plot(x_range,linear(x_range,fit_a,fit_b))"
   ]
  },
  {
   "cell_type": "markdown",
   "metadata": {
    "slideshow": {
     "slide_type": "slide"
    }
   },
   "source": [
    "## Put together"
   ]
  },
  {
   "cell_type": "code",
   "execution_count": null,
   "metadata": {
    "collapsed": false,
    "slideshow": {
     "slide_type": "-"
    }
   },
   "outputs": [],
   "source": [
    "def linear(x,a,b):\n",
    "    \"\"\"Linear model of x using a (slope) and b (intercept)\"\"\"\n",
    "    return a + b*x\n",
    "\n",
    "def linear_r(param,x,y):\n",
    "    \"\"\"Residuals function for linear\"\"\"\n",
    "    return linear(x,param[0],param[1]) - y\n",
    "\n",
    "# Read data\n",
    "d = pd.read_csv(\"dataset_0.csv\")\n",
    "plt.plot(d.x,d.y,'o')\n",
    "\n",
    "# Perform regression\n",
    "param_guesses = [1,1]\n",
    "fit = scipy.optimize.least_squares(linear_r,param_guesses,args=(d.x,d.y))\n",
    "fit_a = fit.x[0]\n",
    "fit_b = fit.x[1]\n",
    "sum_of_square_residuals = fit.cost\n",
    "\n",
    "# Plot result\n",
    "x_range = np.linspace(np.min(d.x),np.max(d.x),100)\n",
    "plt.plot(x_range,linear(x_range,fit_a,fit_b))\n"
   ]
  },
  {
   "cell_type": "markdown",
   "metadata": {
    "slideshow": {
     "slide_type": "slide"
    }
   },
   "source": [
    "## We just sent out that code block and dataset_1.csv on slack now"
   ]
  },
  {
   "cell_type": "markdown",
   "metadata": {
    "slideshow": {
     "slide_type": "slide"
    }
   },
   "source": [
    "<h4>For your assigned model:</h4>\n",
    "<ul>\n",
    "    <li>Write a function and residuals function</li>\n",
    "    <li>Estimate the parameters of the model</li>\n",
    "    <li>Plot the data and the model on the same graph</li>\n",
    "    <li>Write the SSR and number of parameters on the board</li>\n",
    "    <li>If you finish early: plot the residuals and decide if you like your model</li>\n",
    "    <li>If you're still waiting: try to figure out which model best fits dataset_1.csv</li>\n",
    "</ul>\n",
    "<br/>\n",
    "\n",
    "<div style=\"font-size:30px;\" >\n",
    "<div class=\"row\">\n",
    "    <div class=\"col-xs-6\">$y = a \\Big ( \\frac{bx}{1 + bx} \\Big )$</div>\n",
    "    <div class=\"col-xs-6\">$y = a \\Big ( \\frac{bx^{c}}{1 + bx^{c}} \\Big )$</div>\n",
    "</div>\n",
    "\n",
    "<div class=\"row\">\n",
    "    <div class=\"col-xs-6\">$y = a(1 - e^{-bx})$</div>\n",
    "    <div class=\"col-xs-6\">$y = a + bx^{2} + cx^{3}$</div>\n",
    "</div>\n",
    "<div class=\"row\">\n",
    "    <div class=\"col-xs-6\">$y = a + bx^{2} + cx^{3} + dx^{4}$</div>\n",
    "    <div class=\"col-xs-6\">$y = asin(bx + c)$</div>\n",
    "</div>\n",
    "<div class=\"row\">\n",
    "    <div class=\"col-xs-6\">$y = aln(x + b)$</div>\n",
    "    <div class=\"col-xs-6\">$y = aln(bx + c)$</div>\n",
    "</div>\n",
    "\n",
    "\n"
   ]
  },
  {
   "cell_type": "code",
   "execution_count": null,
   "metadata": {
    "collapsed": true,
    "slideshow": {
     "slide_type": "slide"
    }
   },
   "outputs": [],
   "source": []
  },
  {
   "cell_type": "code",
   "execution_count": null,
   "metadata": {
    "collapsed": true,
    "slideshow": {
     "slide_type": "slide"
    }
   },
   "outputs": [],
   "source": [
    "## Models\n",
    "\n",
    "def lin(x,a=1,b=1):\n",
    "    return a + b*x\n",
    "\n",
    "def hb(x,a=1,b=1):\n",
    "    return a*(b*x)/(1 + b*x)\n",
    "\n",
    "def hbc(x,a=1,b=1,c=1):\n",
    "    return a*(b*(x**c))/(1 + b*(x**c))\n",
    "\n",
    "def expt(x,a=1,b=1):\n",
    "    return a*(1 - np.exp(-b*x))\n",
    "\n",
    "def second(x,a=1,b=1,c=1):\n",
    "    return a + b*x + c*(x**2)\n",
    "\n",
    "def third(x,a=1,b=1,c=1,d=1):\n",
    "    return a + b*x + c*(x**2) + d*(x**3)\n",
    "\n",
    "def trig(x,a=1,b=1,c=1):\n",
    "    return a*np.sin(b*x + c)\n",
    "\n",
    "def trig2(x,a=1,b=1,c=1,d=1):\n",
    "    return a*np.sin(x*b) + c*np.sin(x*d)\n",
    "\n",
    "def logd(x,a=1,b=1):\n",
    "    \n",
    "    return a*np.log(x + b)\n",
    "\n",
    "def logdc(x,a=1,b=1,c=1):\n",
    "    \n",
    "    return a*np.log(x*b + c)"
   ]
  },
  {
   "cell_type": "code",
   "execution_count": null,
   "metadata": {
    "collapsed": false,
    "scrolled": false,
    "slideshow": {
     "slide_type": "slide"
    }
   },
   "outputs": [],
   "source": [
    "### TEST FITTING\n",
    "\n",
    "import inspect\n",
    "\n",
    "def residuals(param,x,y,f):\n",
    "    \"\"\"A generalized residuals function.\"\"\"\n",
    "    return y - f(x,*param)\n",
    "\n",
    "def fitter(x,y,f):\n",
    "    \"\"\"\n",
    "    A generalized fitter.  Find parameters of `f` that minimize the \n",
    "    residual between `f` and `y` for values of `x`.  This function\n",
    "    assumes that `f` has the form:\n",
    "    \n",
    "    f(x,param1,param2,param3...)\n",
    "    \n",
    "    x and y should be numpy arrays of the same length.\n",
    "    \"\"\"\n",
    "    \n",
    "    # Create a list of parameter names and guesses using `inspect`\n",
    "    names = []\n",
    "    guesses = []\n",
    "    s = inspect.signature(f)\n",
    "    for i, p in enumerate(s.parameters):\n",
    "        names.append(s.parameters[p].name)\n",
    "        guesses.append(s.parameters[p].default)\n",
    "    \n",
    "    # Fit the model to the data.\n",
    "    x0 = np.array(guesses[1:])\n",
    "    fit = scipy.optimize.least_squares(residuals,x0,\n",
    "                                       args=(x,y,f))\n",
    "\n",
    "    \n",
    "    # Plot hte fit\n",
    "    x_range = np.linspace(np.min(x),np.max(x),100)\n",
    "    plt.plot(x_range,f(x_range,*fit.x),\"-\")\n",
    "    \n",
    "    # Calculate R^2\n",
    "    ss_err = np.sum(residuals(fit.x,x,y,f)**2)\n",
    "    ss_tot = np.sum((y - np.mean(y))**2)\n",
    "    R_sq = 1 - (ss_err/ss_tot)\n",
    "    \n",
    "    return len(fit.x), np.sum(residuals(fit.x,x,y,f)**2)\n",
    "    \n",
    "# Load in dataset\n",
    "d = pd.read_csv(\"dataset_0.csv\")\n",
    "plt.plot(d.x,d.y,\"ko\")\n",
    "\n",
    "# Fit all of those functions to the data\n",
    "func_list = [lin,hb,hbc,expt,second,third,trig,trig2,logd,logdc]\n",
    "results = []\n",
    "for f in func_list:\n",
    "    results.append((str(f).split()[1],fitter(d.x,d.y,f)))\n",
    "    print(results[-1])\n",
    "\n",
    "    "
   ]
  }
 ],
 "metadata": {
  "celltoolbar": "Slideshow",
  "kernelspec": {
   "display_name": "Python 3",
   "language": "python",
   "name": "python3"
  },
  "language_info": {
   "codemirror_mode": {
    "name": "ipython",
    "version": 3
   },
   "file_extension": ".py",
   "mimetype": "text/x-python",
   "name": "python",
   "nbconvert_exporter": "python",
   "pygments_lexer": "ipython3",
   "version": "3.5.2"
  }
 },
 "nbformat": 4,
 "nbformat_minor": 0
}
