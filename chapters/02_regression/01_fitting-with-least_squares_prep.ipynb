{
 "cells": [
  {
   "cell_type": "code",
   "execution_count": 2,
   "metadata": {
    "collapsed": true,
    "slideshow": {
     "slide_type": "slide"
    }
   },
   "outputs": [],
   "source": [
    "%matplotlib inline\n",
    "import numpy as np\n",
    "import matplotlib.pylab as plt"
   ]
  },
  {
   "cell_type": "code",
   "execution_count": 3,
   "metadata": {
    "collapsed": true,
    "slideshow": {
     "slide_type": "-"
    }
   },
   "outputs": [],
   "source": [
    "import scipy.optimize\n",
    "import pandas as pd"
   ]
  },
  {
   "cell_type": "code",
   "execution_count": null,
   "metadata": {
    "collapsed": true,
    "slideshow": {
     "slide_type": "slide"
    }
   },
   "outputs": [],
   "source": [
    "## Models\n",
    "\n",
    "def lin(x,a=1,b=1):\n",
    "    return a + b*x\n",
    "\n",
    "def hb(x,a=1,b=1):\n",
    "    return a*(b*x)/(1 + b*x)\n",
    "\n",
    "def hbc(x,a=1,b=1,c=1):\n",
    "    return a*(b*(x**c))/(1 + b*(x**c))\n",
    "\n",
    "def expt(x,a=1,b=1):\n",
    "    return a*(1 - np.exp(-b*x))\n",
    "\n",
    "def second(x,a=1,b=1,c=1):\n",
    "    return a + b*x + c*(x**2)\n",
    "\n",
    "def third(x,a=1,b=1,c=1,d=1):\n",
    "    return a + b*x + c*(x**2) + d*(x**3)\n",
    "\n",
    "def trig(x,a=1,b=1,c=1):\n",
    "    return a*np.sin(b*x + c)\n",
    "\n",
    "def trig2(x,a=1,b=1,c=1,d=1):\n",
    "    return a*np.sin(x*b) + c*np.sin(x*d)\n",
    "\n",
    "def logd(x,a=1,b=1):\n",
    "    \n",
    "    return a*np.log(x + b)\n",
    "\n",
    "def logdc(x,a=1,b=1,c=1):\n",
    "    \n",
    "    return a*np.log(x*b + c)"
   ]
  },
  {
   "cell_type": "code",
   "execution_count": null,
   "metadata": {
    "collapsed": false,
    "scrolled": false,
    "slideshow": {
     "slide_type": "slide"
    }
   },
   "outputs": [],
   "source": [
    "### TEST FITTING\n",
    "\n",
    "import inspect\n",
    "\n",
    "def residuals(param,x,y,f):\n",
    "    \"\"\"A generalized residuals function.\"\"\"\n",
    "    return y - f(x,*param)\n",
    "\n",
    "def fitter(x,y,f):\n",
    "    \"\"\"\n",
    "    A generalized fitter.  Find parameters of `f` that minimize the \n",
    "    residual between `f` and `y` for values of `x`.  This function\n",
    "    assumes that `f` has the form:\n",
    "    \n",
    "    f(x,param1,param2,param3...)\n",
    "    \n",
    "    x and y should be numpy arrays of the same length.\n",
    "    \"\"\"\n",
    "    \n",
    "    # Create a list of parameter names and guesses using `inspect`\n",
    "    names = []\n",
    "    guesses = []\n",
    "    s = inspect.signature(f)\n",
    "    for i, p in enumerate(s.parameters):\n",
    "        names.append(s.parameters[p].name)\n",
    "        guesses.append(s.parameters[p].default)\n",
    "    \n",
    "    # Fit the model to the data.\n",
    "    x0 = np.array(guesses[1:])\n",
    "    fit = scipy.optimize.least_squares(residuals,x0,\n",
    "                                       args=(x,y,f))\n",
    "\n",
    "    \n",
    "    # Plot hte fit\n",
    "    x_range = np.linspace(np.min(x),np.max(x),100)\n",
    "    plt.plot(x_range,f(x_range,*fit.x),\"-\")\n",
    "    \n",
    "    # Calculate R^2\n",
    "    ss_err = np.sum(residuals(fit.x,x,y,f)**2)\n",
    "    ss_tot = np.sum((y - np.mean(y))**2)\n",
    "    R_sq = 1 - (ss_err/ss_tot)\n",
    "    \n",
    "    return len(fit.x), np.sum(residuals(fit.x,x,y,f)**2)\n",
    "    \n",
    "# Load in dataset\n",
    "d = pd.read_csv(\"dataset_0.csv\")\n",
    "plt.plot(d.x,d.y,\"ko\")\n",
    "\n",
    "# Fit all of those functions to the data\n",
    "func_list = [lin,hb,hbc,expt,second,third,trig,trig2,logd,logdc]\n",
    "results = []\n",
    "for f in func_list:\n",
    "    results.append((str(f).split()[1],fitter(d.x,d.y,f)))\n",
    "    print(results[-1])\n",
    "\n",
    "    "
   ]
  },
  {
   "cell_type": "markdown",
   "metadata": {
    "slideshow": {
     "slide_type": "slide"
    }
   },
   "source": [
    "# Generate data sets to fit"
   ]
  },
  {
   "cell_type": "code",
   "execution_count": null,
   "metadata": {
    "collapsed": true
   },
   "outputs": [],
   "source": [
    "# Generate data\n",
    "        \n",
    "x = np.linspace(0,10,41)\n",
    "y = expt(x,4,0.3) + np.random.normal(0,0.3,len(x))\n",
    "\n",
    "d = pd.DataFrame({\"x\":x,\"y\":y})\n",
    "plt.plot(x,y,\"o\"); plt.show()\n",
    "d.to_csv(\"dataset_0.csv\")"
   ]
  },
  {
   "cell_type": "code",
   "execution_count": null,
   "metadata": {
    "collapsed": false,
    "slideshow": {
     "slide_type": "-"
    }
   },
   "outputs": [],
   "source": [
    "x = np.linspace(0,10,41)\n",
    "y = hbc(x,4,0.005,4) + np.random.normal(0,0.3,len(x))\n",
    "\n",
    "d = pd.DataFrame({\"x\":x,\"y\":y})\n",
    "plt.plot(x,y,\"o\"); plt.show()\n",
    "d.to_csv(\"dataset_1.csv\")"
   ]
  }
 ],
 "metadata": {
  "celltoolbar": "Slideshow",
  "kernelspec": {
   "display_name": "Python 3",
   "language": "python",
   "name": "python3"
  },
  "language_info": {
   "codemirror_mode": {
    "name": "ipython",
    "version": 3
   },
   "file_extension": ".py",
   "mimetype": "text/x-python",
   "name": "python",
   "nbconvert_exporter": "python",
   "pygments_lexer": "ipython3",
   "version": "3.5.2"
  }
 },
 "nbformat": 4,
 "nbformat_minor": 0
}
