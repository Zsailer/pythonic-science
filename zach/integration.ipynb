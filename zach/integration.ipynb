{
 "cells": [
  {
   "cell_type": "markdown",
   "metadata": {},
   "source": [
    "# Intergration"
   ]
  },
  {
   "cell_type": "code",
   "execution_count": 71,
   "metadata": {
    "collapsed": true
   },
   "outputs": [],
   "source": [
    "%matplotlib inline\n",
    "import matplotlib.pyplot as plt\n",
    "import math"
   ]
  },
  {
   "cell_type": "code",
   "execution_count": 214,
   "metadata": {
    "collapsed": false
   },
   "outputs": [],
   "source": [
    "def func(x):\n",
    "    \"\"\" Function to integrate. \"\"\"\n",
    "    y = math.sin(x) + 2\n",
    "    return y"
   ]
  },
  {
   "cell_type": "code",
   "execution_count": 215,
   "metadata": {
    "collapsed": false
   },
   "outputs": [
    {
     "name": "stdout",
     "output_type": "stream",
     "text": [
      "12.566370614359172\n",
      "actual area: 12.566370614359172\n"
     ]
    },
    {
     "data": {
      "image/png": "[encoded data removed]",
      "text/plain": [
       "<matplotlib.figure.Figure at 0x10b6bc3c8>"
      ]
     },
     "metadata": {},
     "output_type": "display_data"
    }
   ],
   "source": [
    "nbins = 100\n",
    "xa = 0\n",
    "xb = 2*math.pi\n",
    "x = range(nbins)\n",
    "\n",
    "binsize = (xb - xa) / nbins\n",
    "left = []\n",
    "heights = []\n",
    "area = 0\n",
    "\n",
    "for i in x:\n",
    "    # Calculate area\n",
    "    height = func(i*binsize)\n",
    "    a = binsize*height\n",
    "    \n",
    "    # Save values\n",
    "    left.append(i*binsize)\n",
    "    heights.append(height)\n",
    "    area += a\n",
    "\n",
    "plt.bar(left, heights, width=binsize)\n",
    "plt.plot(left, heights, '-')\n",
    "print(area)\n",
    "print(\"actual area: \" + str(2 * 2* math.pi))"
   ]
  },
  {
   "cell_type": "code",
   "execution_count": null,
   "metadata": {
    "collapsed": true
   },
   "outputs": [],
   "source": []
  }
 ],
 "metadata": {
  "kernelspec": {
   "display_name": "Python 3 (py3)",
   "language": "python",
   "name": "py3"
  },
  "language_info": {
   "codemirror_mode": {
    "name": "ipython",
    "version": 3
   },
   "file_extension": ".py",
   "mimetype": "text/x-python",
   "name": "python",
   "nbconvert_exporter": "python",
   "pygments_lexer": "ipython3",
   "version": "3.5.0"
  }
 },
 "nbformat": 4,
 "nbformat_minor": 2
}
